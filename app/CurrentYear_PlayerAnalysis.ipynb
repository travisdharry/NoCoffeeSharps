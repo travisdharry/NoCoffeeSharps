{
 "cells": [
  {
   "cell_type": "markdown",
   "metadata": {},
   "source": [
    "## Find each Franchise's rostered players"
   ]
  },
  {
   "cell_type": "code",
   "execution_count": 80,
   "metadata": {},
   "outputs": [],
   "source": [
    "# import dependencies\n",
    "import pandas as pd\n",
    "from bs4 import BeautifulSoup\n",
    "import requests\n",
    "from datetime import date\n",
    "import plotly.express as px\n",
    "import plotly.graph_objects as go\n",
    "\n",
    "# import config\n",
    "from config import league_id, api_key_MFL"
   ]
  },
  {
   "cell_type": "code",
   "execution_count": 202,
   "metadata": {
    "scrolled": true
   },
   "outputs": [],
   "source": [
    "# Initialize Franchise data\n",
    "franchise_df = pd.DataFrame()\n",
    "franchise_df['Franchise'] = ['0001', '0002', '0003', '0004', '0005', '0006', '0007', '0008', '0009', '0010', '0011', '0012', 'FA']\n",
    "franchise_df['FranchiseCode'] = ['PMS', 'WFF', 'VER', 'DWS', 'CRO', 'OHS', 'FNF', 'CAM', 'PBW', 'SAS', 'GUS', 'IDK', 'FA']\n",
    "franchise_df['FranchiseName'] =['PMS', \n",
    "                                'WFF', \n",
    "                                'VER', \n",
    "                                'DWS', \n",
    "                                'CRO', \n",
    "                                'OHS', \n",
    "                                'FNF', \n",
    "                                'CAM', \n",
    "                                'PBW', \n",
    "                                'SAS', \n",
    "                                'GUS', \n",
    "                                'IDK', \n",
    "                                'FA'\n",
    "                                ]\n"
   ]
  },
  {
   "cell_type": "markdown",
   "metadata": {},
   "source": [
    "## Pull player data from MyFantasyLeague"
   ]
  },
  {
   "cell_type": "code",
   "execution_count": 203,
   "metadata": {},
   "outputs": [],
   "source": [
    "# Get all players' name, team name, position\n",
    "urlString = \"https://api.myfantasyleague.com/2022/export?TYPE=players\"\n",
    "response = requests.get(urlString)\n",
    "soup = BeautifulSoup(response.content,'xml')\n",
    "\n",
    "data = []\n",
    "players = soup.find_all('player')\n",
    "for i in range(len(players)):\n",
    "    rows = [players[i].get(\"id\"), players[i].get(\"name\"), players[i].get(\"position\"), players[i].get(\"team\")]\n",
    "    data.append(rows)\n",
    "player_df = pd.DataFrame(data)\n",
    "player_df.columns=['PlayerID','Name', 'Position', 'Team']\n"
   ]
  },
  {
   "cell_type": "code",
   "execution_count": 204,
   "metadata": {},
   "outputs": [],
   "source": [
    "# Get franchise rosters\n",
    "urlString = f\"https://www54.myfantasyleague.com/2022/export?TYPE=rosters&L={league_id}\"\n",
    "response = requests.get(urlString)\n",
    "soup = BeautifulSoup(response.content,'xml')\n",
    "\n",
    "data = []\n",
    "franchises = soup.find_all('franchise')\n",
    "for i in range(0,len(franchises)):\n",
    "    current_franchise = franchises[i].find_all('player')\n",
    "    for j in range(0,len(current_franchise)):\n",
    "        rows = [franchises[i].get(\"id\"), franchises[i].get(\"week\"), current_franchise[j].get(\"id\"), current_franchise[j].get(\"status\")]\n",
    "        data.append(rows)\n",
    "rosters_df = pd.DataFrame(data)\n",
    "\n",
    "# Get Free Agents\n",
    "urlString = f\"https://www54.myfantasyleague.com/2022/export?TYPE=freeAgents&L={league_id}\"\n",
    "response = requests.get(urlString)\n",
    "soup = BeautifulSoup(response.content,'xml')\n",
    "\n",
    "data = []\n",
    "freeAgents = soup.find_all('player')\n",
    "for i in range(len(freeAgents)):\n",
    "    rows = [\"FA\", \"\", freeAgents[i].get(\"id\"), \"Free Agent\"]\n",
    "    data.append(rows)\n",
    "fa_df = pd.DataFrame(data)\n",
    "rosters_df = rosters_df.append(fa_df)\n",
    "rosters_df.columns=['Franchise','Week','PlayerID','RosterStatus']\n",
    "\n"
   ]
  },
  {
   "cell_type": "code",
   "execution_count": 205,
   "metadata": {},
   "outputs": [],
   "source": [
    "# Get Shark Ranks\n",
    "urlString = \"https://api.myfantasyleague.com/2022/export?TYPE=playerRanks\"\n",
    "response = requests.get(urlString)\n",
    "soup = BeautifulSoup(response.content,'xml')\n",
    "\n",
    "data = []\n",
    "sharkRanks = soup.find_all('player')\n",
    "for i in range(len(sharkRanks)):\n",
    "    rows = [sharkRanks[i].get(\"id\"), sharkRanks[i].get(\"rank\")]\n",
    "    data.append(rows)\n",
    "shark_df = pd.DataFrame(data)\n",
    "shark_df.columns=['PlayerID','SharkRank']\n",
    "shark_df['SharkRank'] = shark_df['SharkRank'].astype('int32')\n"
   ]
  },
  {
   "cell_type": "code",
   "execution_count": 206,
   "metadata": {},
   "outputs": [],
   "source": [
    "# Get adp\n",
    "urlString = \"https://api.myfantasyleague.com/2022/export?TYPE=adp\"\n",
    "response = requests.get(urlString)\n",
    "soup = BeautifulSoup(response.content,'xml')\n",
    "\n",
    "data = []\n",
    "players = soup.find_all('player')\n",
    "for i in range(len(players)):\n",
    "    rows = [players[i].get(\"id\"), players[i].get(\"averagePick\")]\n",
    "    data.append(rows)\n",
    "adp_df = pd.DataFrame(data)\n",
    "adp_df.columns=['PlayerID','ADP']\n",
    "adp_df['ADP'] = adp_df['ADP'].astype('float32')\n",
    "\n"
   ]
  },
  {
   "cell_type": "code",
   "execution_count": 207,
   "metadata": {},
   "outputs": [],
   "source": [
    "# Merge all dfs\n",
    "complete = player_df.merge(rosters_df, on='PlayerID').merge(franchise_df[['Franchise', 'FranchiseCode']], on='Franchise').merge(shark_df, on='PlayerID').merge(adp_df, on='PlayerID')\n",
    "complete = complete.sort_values(by=['SharkRank'])\n",
    "complete.reset_index(inplace=True, drop=True)"
   ]
  },
  {
   "cell_type": "code",
   "execution_count": 208,
   "metadata": {},
   "outputs": [],
   "source": [
    "qbs_2022 = complete[complete['Position'] == \"QB\"]\n",
    "qbs_2022.reset_index(inplace=True, drop=True)\n",
    "rbs_2022 = complete[complete['Position'] == \"RB\"]\n",
    "rbs_2022.reset_index(inplace=True, drop=True)\n",
    "wrs_2022 = complete[complete['Position'] == \"WR\"]\n",
    "wrs_2022.reset_index(inplace=True, drop=True)\n",
    "tes_2022 = complete[complete['Position'] == \"TE\"]\n",
    "tes_2022.reset_index(inplace=True, drop=True)\n",
    "pks_2022 = complete[complete['Position'] == \"PK\"]\n",
    "pks_2022.reset_index(inplace=True, drop=True)\n",
    "defs_2022 = complete[complete['Position'] == \"Def\"]\n",
    "defs_2022.reset_index(inplace=True, drop=True)"
   ]
  },
  {
   "cell_type": "markdown",
   "metadata": {},
   "source": [
    "## Import standard relative values"
   ]
  },
  {
   "cell_type": "code",
   "execution_count": 209,
   "metadata": {},
   "outputs": [],
   "source": [
    "qbs = pd.read_excel(\"RelativeValues2021.xlsx\", sheet_name=\"QB\")\n",
    "rbs = pd.read_excel(\"RelativeValues2021.xlsx\", sheet_name=\"RB\")\n",
    "wrs = pd.read_excel(\"RelativeValues2021.xlsx\", sheet_name=\"WR\")\n",
    "tes = pd.read_excel(\"RelativeValues2021.xlsx\", sheet_name=\"TE\")\n",
    "pks = pd.read_excel(\"RelativeValues2021.xlsx\", sheet_name=\"PK\")\n",
    "defs = pd.read_excel(\"RelativeValues2021.xlsx\", sheet_name=\"DEF\")\n",
    "\n",
    "qbs = qbs['Regressed']\n",
    "rbs = rbs['Regressed']\n",
    "wrs = wrs['Regressed']\n",
    "tes = tes['Regressed']\n",
    "pks = pks['Regressed']\n",
    "defs = defs['Regressed']\n"
   ]
  },
  {
   "cell_type": "code",
   "execution_count": 210,
   "metadata": {},
   "outputs": [],
   "source": [
    "# Merge dfs\n",
    "qbs_2022 = pd.merge(qbs_2022, qbs, how=\"left\", left_index=True, right_index=True)\n",
    "rbs_2022 = pd.merge(rbs_2022, rbs, how=\"left\", left_index=True, right_index=True)\n",
    "wrs_2022 = pd.merge(wrs_2022, wrs, how=\"left\", left_index=True, right_index=True)\n",
    "tes_2022 = pd.merge(tes_2022, tes, how=\"left\", left_index=True, right_index=True)\n",
    "pks_2022 = pd.merge(pks_2022, pks, how=\"left\", left_index=True, right_index=True)\n",
    "defs_2022 = pd.merge(defs_2022, defs, how=\"left\", left_index=True, right_index=True)\n",
    "analyzed = pd.concat([qbs_2022, rbs_2022, wrs_2022, tes_2022, pks_2022, defs_2022])\n"
   ]
  },
  {
   "cell_type": "code",
   "execution_count": 211,
   "metadata": {},
   "outputs": [
    {
     "data": {
      "text/html": [
       "<div>\n",
       "<style scoped>\n",
       "    .dataframe tbody tr th:only-of-type {\n",
       "        vertical-align: middle;\n",
       "    }\n",
       "\n",
       "    .dataframe tbody tr th {\n",
       "        vertical-align: top;\n",
       "    }\n",
       "\n",
       "    .dataframe thead th {\n",
       "        text-align: right;\n",
       "    }\n",
       "</style>\n",
       "<table border=\"1\" class=\"dataframe\">\n",
       "  <thead>\n",
       "    <tr style=\"text-align: right;\">\n",
       "      <th></th>\n",
       "      <th>SharkRank</th>\n",
       "      <th>ADP</th>\n",
       "      <th>Regressed</th>\n",
       "    </tr>\n",
       "    <tr>\n",
       "      <th>FranchiseCode</th>\n",
       "      <th></th>\n",
       "      <th></th>\n",
       "      <th></th>\n",
       "    </tr>\n",
       "  </thead>\n",
       "  <tbody>\n",
       "    <tr>\n",
       "      <th>PBW</th>\n",
       "      <td>7823</td>\n",
       "      <td>2003.609985</td>\n",
       "      <td>1042.656665</td>\n",
       "    </tr>\n",
       "    <tr>\n",
       "      <th>CRO</th>\n",
       "      <td>11559</td>\n",
       "      <td>2825.510010</td>\n",
       "      <td>1005.029989</td>\n",
       "    </tr>\n",
       "    <tr>\n",
       "      <th>SAS</th>\n",
       "      <td>8458</td>\n",
       "      <td>2088.699951</td>\n",
       "      <td>955.816661</td>\n",
       "    </tr>\n",
       "    <tr>\n",
       "      <th>WFF</th>\n",
       "      <td>7763</td>\n",
       "      <td>1851.560059</td>\n",
       "      <td>954.353323</td>\n",
       "    </tr>\n",
       "    <tr>\n",
       "      <th>DWS</th>\n",
       "      <td>9318</td>\n",
       "      <td>2332.469971</td>\n",
       "      <td>927.006664</td>\n",
       "    </tr>\n",
       "    <tr>\n",
       "      <th>CAM</th>\n",
       "      <td>8482</td>\n",
       "      <td>2428.379883</td>\n",
       "      <td>739.696660</td>\n",
       "    </tr>\n",
       "    <tr>\n",
       "      <th>VER</th>\n",
       "      <td>8508</td>\n",
       "      <td>2122.070068</td>\n",
       "      <td>709.580004</td>\n",
       "    </tr>\n",
       "    <tr>\n",
       "      <th>IDK</th>\n",
       "      <td>9160</td>\n",
       "      <td>2268.780029</td>\n",
       "      <td>695.533324</td>\n",
       "    </tr>\n",
       "    <tr>\n",
       "      <th>FNF</th>\n",
       "      <td>10114</td>\n",
       "      <td>2528.070068</td>\n",
       "      <td>641.513330</td>\n",
       "    </tr>\n",
       "    <tr>\n",
       "      <th>GUS</th>\n",
       "      <td>11020</td>\n",
       "      <td>2608.659912</td>\n",
       "      <td>566.253327</td>\n",
       "    </tr>\n",
       "    <tr>\n",
       "      <th>OHS</th>\n",
       "      <td>13027</td>\n",
       "      <td>2300.590088</td>\n",
       "      <td>461.526660</td>\n",
       "    </tr>\n",
       "    <tr>\n",
       "      <th>PMS</th>\n",
       "      <td>13246</td>\n",
       "      <td>2666.820068</td>\n",
       "      <td>378.563327</td>\n",
       "    </tr>\n",
       "    <tr>\n",
       "      <th>FA</th>\n",
       "      <td>96283</td>\n",
       "      <td>8974.509766</td>\n",
       "      <td>-2929.033332</td>\n",
       "    </tr>\n",
       "  </tbody>\n",
       "</table>\n",
       "</div>"
      ],
      "text/plain": [
       "               SharkRank          ADP    Regressed\n",
       "FranchiseCode                                     \n",
       "PBW                 7823  2003.609985  1042.656665\n",
       "CRO                11559  2825.510010  1005.029989\n",
       "SAS                 8458  2088.699951   955.816661\n",
       "WFF                 7763  1851.560059   954.353323\n",
       "DWS                 9318  2332.469971   927.006664\n",
       "CAM                 8482  2428.379883   739.696660\n",
       "VER                 8508  2122.070068   709.580004\n",
       "IDK                 9160  2268.780029   695.533324\n",
       "FNF                10114  2528.070068   641.513330\n",
       "GUS                11020  2608.659912   566.253327\n",
       "OHS                13027  2300.590088   461.526660\n",
       "PMS                13246  2666.820068   378.563327\n",
       "FA                 96283  8974.509766 -2929.033332"
      ]
     },
     "execution_count": 211,
     "metadata": {},
     "output_type": "execute_result"
    }
   ],
   "source": [
    "analyzed.groupby('FranchiseCode').sum().sort_values(by='Regressed', ascending=False)"
   ]
  },
  {
   "cell_type": "code",
   "execution_count": 212,
   "metadata": {},
   "outputs": [],
   "source": [
    "analyzed['Date'] = date.today()\n",
    "priorWeeks = pd.read_csv(\"2022Values.csv\", index_col=0)\n",
    "priorWeeks['Date'] = pd.to_datetime(priorWeeks['Date'])\n",
    "result = pd.concat([priorWeeks, analyzed], axis=0, ignore_index=True)\n",
    "result.to_csv(\"2022Values.csv\")"
   ]
  },
  {
   "cell_type": "markdown",
   "metadata": {},
   "source": [
    "## Roster-builder"
   ]
  },
  {
   "cell_type": "code",
   "execution_count": 214,
   "metadata": {},
   "outputs": [],
   "source": [
    "today = result[result['Date'] == date.today()].sort_values(by='Regressed', ascending=False, ignore_index=True)"
   ]
  },
  {
   "cell_type": "code",
   "execution_count": 215,
   "metadata": {},
   "outputs": [],
   "source": [
    "qbs_rostered = today[today['Position'] == \"QB\"]\n",
    "qbs_rostered.reset_index(inplace=True, drop=True)\n",
    "rbs_rostered = today[today['Position'] == \"RB\"]\n",
    "rbs_rostered.reset_index(inplace=True, drop=True)\n",
    "wrs_rostered = today[today['Position'] == \"WR\"]\n",
    "wrs_rostered.reset_index(inplace=True, drop=True)\n",
    "tes_rostered = today[today['Position'] == \"TE\"]\n",
    "tes_rostered.reset_index(inplace=True, drop=True)"
   ]
  },
  {
   "cell_type": "code",
   "execution_count": 216,
   "metadata": {},
   "outputs": [],
   "source": [
    "qbs_top = qbs_rostered.sort_values(by='Regressed', ascending=False, ignore_index=True).groupby('FranchiseCode').head(1)\n",
    "rbs_top = rbs_rostered.sort_values(by='Regressed', ascending=False, ignore_index=True).groupby('FranchiseCode').head(2)\n",
    "wrs_top = wrs_rostered.sort_values(by='Regressed', ascending=False, ignore_index=True).groupby('FranchiseCode').head(3)\n",
    "tes_top = tes_rostered.sort_values(by='Regressed', ascending=False, ignore_index=True).groupby('FranchiseCode').head(2)\n",
    "\n",
    "qbs_remainder = qbs_rostered[~qbs_rostered['PlayerID'].isin(qbs_top['PlayerID'])].groupby('FranchiseCode').head(1)\n",
    "rbs_remainder = rbs_rostered[~rbs_rostered['PlayerID'].isin(rbs_top['PlayerID'])].groupby('FranchiseCode').head(3)\n",
    "wrs_remainder = wrs_rostered[~wrs_rostered['PlayerID'].isin(wrs_top['PlayerID'])].groupby('FranchiseCode').head(3)\n",
    "tes_remainder = tes_rostered[~tes_rostered['PlayerID'].isin(tes_top['PlayerID'])].groupby('FranchiseCode').head(3)\n",
    "                                                         \n",
    "remainder = pd.concat([qbs_remainder, rbs_remainder, wrs_remainder, tes_remainder])\n",
    "                             \n",
    "top_remainders = remainder.sort_values(by='Regressed', ascending=False, ignore_index=True).groupby('FranchiseCode').head(3)\n",
    "                             \n",
    "fran_rost = pd.concat([qbs_top, rbs_top, wrs_top, tes_top, top_remainders])\n",
    "fran_rost = fran_rost.sort_values(by='Regressed', ascending=False, ignore_index=True)\n"
   ]
  },
  {
   "cell_type": "markdown",
   "metadata": {},
   "source": [
    "## Examine Data"
   ]
  },
  {
   "cell_type": "code",
   "execution_count": 217,
   "metadata": {},
   "outputs": [
    {
     "data": {
      "text/html": [
       "<div>\n",
       "<style scoped>\n",
       "    .dataframe tbody tr th:only-of-type {\n",
       "        vertical-align: middle;\n",
       "    }\n",
       "\n",
       "    .dataframe tbody tr th {\n",
       "        vertical-align: top;\n",
       "    }\n",
       "\n",
       "    .dataframe thead th {\n",
       "        text-align: right;\n",
       "    }\n",
       "</style>\n",
       "<table border=\"1\" class=\"dataframe\">\n",
       "  <thead>\n",
       "    <tr style=\"text-align: right;\">\n",
       "      <th></th>\n",
       "      <th>SharkRank</th>\n",
       "      <th>ADP</th>\n",
       "      <th>Regressed</th>\n",
       "    </tr>\n",
       "    <tr>\n",
       "      <th>FranchiseCode</th>\n",
       "      <th></th>\n",
       "      <th></th>\n",
       "      <th></th>\n",
       "    </tr>\n",
       "  </thead>\n",
       "  <tbody>\n",
       "    <tr>\n",
       "      <th>WFF</th>\n",
       "      <td>1150</td>\n",
       "      <td>675.360008</td>\n",
       "      <td>958.359996</td>\n",
       "    </tr>\n",
       "    <tr>\n",
       "      <th>SAS</th>\n",
       "      <td>1150</td>\n",
       "      <td>537.530002</td>\n",
       "      <td>950.063327</td>\n",
       "    </tr>\n",
       "    <tr>\n",
       "      <th>PBW</th>\n",
       "      <td>1749</td>\n",
       "      <td>736.989993</td>\n",
       "      <td>889.993335</td>\n",
       "    </tr>\n",
       "    <tr>\n",
       "      <th>CRO</th>\n",
       "      <td>997</td>\n",
       "      <td>688.689999</td>\n",
       "      <td>860.493324</td>\n",
       "    </tr>\n",
       "    <tr>\n",
       "      <th>VER</th>\n",
       "      <td>1549</td>\n",
       "      <td>658.099993</td>\n",
       "      <td>819.746670</td>\n",
       "    </tr>\n",
       "    <tr>\n",
       "      <th>DWS</th>\n",
       "      <td>1806</td>\n",
       "      <td>955.020014</td>\n",
       "      <td>746.723332</td>\n",
       "    </tr>\n",
       "    <tr>\n",
       "      <th>CAM</th>\n",
       "      <td>1293</td>\n",
       "      <td>1075.429996</td>\n",
       "      <td>728.720000</td>\n",
       "    </tr>\n",
       "    <tr>\n",
       "      <th>IDK</th>\n",
       "      <td>3590</td>\n",
       "      <td>1062.530001</td>\n",
       "      <td>689.059993</td>\n",
       "    </tr>\n",
       "    <tr>\n",
       "      <th>GUS</th>\n",
       "      <td>2195</td>\n",
       "      <td>978.899994</td>\n",
       "      <td>687.633327</td>\n",
       "    </tr>\n",
       "    <tr>\n",
       "      <th>OHS</th>\n",
       "      <td>4014</td>\n",
       "      <td>965.980004</td>\n",
       "      <td>673.763324</td>\n",
       "    </tr>\n",
       "    <tr>\n",
       "      <th>FNF</th>\n",
       "      <td>2770</td>\n",
       "      <td>1114.820003</td>\n",
       "      <td>626.286662</td>\n",
       "    </tr>\n",
       "    <tr>\n",
       "      <th>PMS</th>\n",
       "      <td>3332</td>\n",
       "      <td>1054.550020</td>\n",
       "      <td>445.243330</td>\n",
       "    </tr>\n",
       "    <tr>\n",
       "      <th>FA</th>\n",
       "      <td>6521</td>\n",
       "      <td>1458.209994</td>\n",
       "      <td>58.906665</td>\n",
       "    </tr>\n",
       "  </tbody>\n",
       "</table>\n",
       "</div>"
      ],
      "text/plain": [
       "               SharkRank          ADP   Regressed\n",
       "FranchiseCode                                    \n",
       "WFF                 1150   675.360008  958.359996\n",
       "SAS                 1150   537.530002  950.063327\n",
       "PBW                 1749   736.989993  889.993335\n",
       "CRO                  997   688.689999  860.493324\n",
       "VER                 1549   658.099993  819.746670\n",
       "DWS                 1806   955.020014  746.723332\n",
       "CAM                 1293  1075.429996  728.720000\n",
       "IDK                 3590  1062.530001  689.059993\n",
       "GUS                 2195   978.899994  687.633327\n",
       "OHS                 4014   965.980004  673.763324\n",
       "FNF                 2770  1114.820003  626.286662\n",
       "PMS                 3332  1054.550020  445.243330\n",
       "FA                  6521  1458.209994   58.906665"
      ]
     },
     "execution_count": 217,
     "metadata": {},
     "output_type": "execute_result"
    }
   ],
   "source": [
    "fran_rank = fran_rost.groupby('FranchiseCode').sum().sort_values(by='Regressed', ascending=False)\n",
    "fran_rank"
   ]
  },
  {
   "cell_type": "code",
   "execution_count": 218,
   "metadata": {},
   "outputs": [
    {
     "data": {
      "application/vnd.plotly.v1+json": {
       "config": {
        "plotlyServerURL": "https://plot.ly"
       },
       "data": [
        {
         "alignmentgroup": "True",
         "hovertemplate": "Position=RB<br>FranchiseCode=%{x}<br>Regressed=%{y}<br>Name=%{text}<extra></extra>",
         "legendgroup": "RB",
         "marker": {
          "color": "#1033a6",
          "pattern": {
           "shape": ""
          }
         },
         "name": "RB",
         "offsetgroup": "RB",
         "orientation": "v",
         "showlegend": true,
         "text": [
          "Harris, Najee",
          "Harris, Damien",
          "Barkley, Saquon",
          "Williams, Javonte",
          "Sanders, Miles",
          "Fournette, Leonard",
          "Dobbins, J.K.",
          "Jacobs, Josh",
          "Montgomery, David",
          "Mixon, Joe",
          "Etienne, Travis",
          "Mitchell, Elijah",
          "Elliott, Ezekiel",
          "Singletary, Devin",
          "Edmonds, Chase",
          "Jones, Aaron",
          "Chubb, Nick",
          "McCaffrey, Christian",
          "Conner, James",
          "Hunt, Kareem",
          "Ekeler, Austin",
          "Kamara, Alvin",
          "Cook, Dalvin",
          "Akers, Cam",
          "Robinson, James",
          "Benjamin, Eno",
          "Taylor, Jonathan",
          "Henry, Derrick",
          "Gibson, Antonio",
          "White, James",
          "McKissic, J.D.",
          "Edwards-Helaire, Clyde",
          "Davis, Mike",
          "Patterson, Cordarrelle",
          "Dillon, AJ",
          "Swift, D'Andre",
          "Walker III, Kenneth",
          "Hall, Breece"
         ],
         "textposition": "auto",
         "type": "bar",
         "x": [
          "WFF",
          "WFF",
          "SAS",
          "SAS",
          "PBW",
          "PBW",
          "PBW",
          "CRO",
          "CRO",
          "CRO",
          "VER",
          "VER",
          "VER",
          "VER",
          "DWS",
          "DWS",
          "DWS",
          "CAM",
          "CAM",
          "IDK",
          "IDK",
          "IDK",
          "GUS",
          "GUS",
          "GUS",
          "OHS",
          "OHS",
          "OHS",
          "OHS",
          "FNF",
          "FNF",
          "FNF",
          "FNF",
          "PMS",
          "PMS",
          "PMS",
          "FA",
          "FA"
         ],
         "xaxis": "x",
         "y": [
          93.7933334350586,
          43.00666809082031,
          117.1133310953776,
          68.05333404541017,
          35.62666778564454,
          122.3733306884766,
          38.35333506266276,
          72.21666564941407,
          112.9466664632161,
          120.9333307902018,
          48.00333557128906,
          61.67999877929687,
          105.6766662597656,
          64.72666727701824,
          32.64666646321615,
          89.08333384195963,
          131.5499969482422,
          146.439995320638,
          79.74000040690105,
          29.33999938964844,
          224.9333292643229,
          101.083332824707,
          163.9766642252604,
          77.76333312988281,
          53.94666798909505,
          -5.350001780192057,
          201.6033325195312,
          175.2899983723958,
          76.24666544596354,
          14.22999928792318,
          12.16333363850912,
          57.59666646321615,
          6.32333475748698,
          34.43333333333334,
          23.11333363850912,
          82.91333516438802,
          63.10333302815756,
          25.9933349609375
         ],
         "yaxis": "y"
        },
        {
         "alignmentgroup": "True",
         "hovertemplate": "Position=QB<br>FranchiseCode=%{x}<br>Regressed=%{y}<br>Name=%{text}<extra></extra>",
         "legendgroup": "QB",
         "marker": {
          "color": "#f5d000",
          "pattern": {
           "shape": ""
          }
         },
         "name": "QB",
         "offsetgroup": "QB",
         "orientation": "v",
         "showlegend": true,
         "text": [
          "Cousins, Kirk",
          "Brady, Tom",
          "Carr, Derek",
          "Mahomes, Patrick",
          "Rodgers, Aaron",
          "Watson, Deshaun",
          "Hurts, Jalen",
          "Murray, Kyler",
          "Tagovailoa, Tua",
          "Burrow, Joe",
          "Tannehill, Ryan",
          "Herbert, Justin",
          "Wilson, Russell",
          "Garoppolo, Jimmy",
          "Fields, Justin",
          "Jackson, Lamar",
          "Mills, Davis",
          "Stafford, Matthew",
          "Allen, Josh",
          "Winston, Jameis",
          "Prescott, Dak",
          "Huntley, Tyler"
         ],
         "textposition": "auto",
         "type": "bar",
         "x": [
          "WFF",
          "WFF",
          "SAS",
          "SAS",
          "PBW",
          "PBW",
          "CRO",
          "CRO",
          "VER",
          "VER",
          "DWS",
          "DWS",
          "CAM",
          "IDK",
          "IDK",
          "GUS",
          "OHS",
          "FNF",
          "FNF",
          "PMS",
          "PMS",
          "FA"
         ],
         "xaxis": "x",
         "y": [
          118.0800008138021,
          171.6466644287109,
          102.4066685994466,
          193.4099985758464,
          136.6400014241536,
          130.5433349609375,
          58.81666564941407,
          163.4633321126302,
          47.61000010172526,
          67.9433334350586,
          61.70666554768881,
          178.0466674804688,
          123.3500020345052,
          22.27999674479167,
          31.95666605631511,
          145.0699991861979,
          34.00666656494141,
          85.60000152587891,
          205.3499979654948,
          41.47666524251303,
          153.9299977620443,
          -30.4133305867513
         ],
         "yaxis": "y"
        },
        {
         "alignmentgroup": "True",
         "hovertemplate": "Position=WR<br>FranchiseCode=%{x}<br>Regressed=%{y}<br>Name=%{text}<extra></extra>",
         "legendgroup": "WR",
         "marker": {
          "color": "#643fc1",
          "pattern": {
           "shape": ""
          }
         },
         "name": "WR",
         "offsetgroup": "WR",
         "orientation": "v",
         "showlegend": true,
         "text": [
          "Samuel, Deebo",
          "Metcalf, DK",
          "Kupp, Cooper",
          "Higgins, Tee",
          "Davis, Gabriel",
          "Robinson, Allen",
          "Bateman, Rashod",
          "Hill, Tyreek",
          "Chase, Ja'Marr",
          "Jefferson, Justin",
          "Brown, A.J.",
          "Allen, Keenan",
          "Jones, Marvin",
          "Godwin, Chris",
          "Mooney, Darnell",
          "Lazard, Allen",
          "Moore, D.J.",
          "Hopkins, DeAndre",
          "Adams, Davante",
          "Cooper, Amari",
          "St. Brown, Amon-Ra",
          "McLaurin, Terry",
          "Evans, Mike",
          "Landry, Jarvis",
          "Lockett, Tyler",
          "Bourne, Kendrick",
          "Meyers, Jakobi",
          "Chark, D.J.",
          "Parker, DeVante",
          "Williams, Mike",
          "Thielen, Adam",
          "Johnson, Diontae",
          "Thomas, Michael",
          "Kirk, Christian",
          "Renfrow, Hunter",
          "Pittman, Michael",
          "Waddle, Jaylen",
          "Shenault, Laviska",
          "Lamb, CeeDee",
          "Smith, DeVonta",
          "Gallup, Michael",
          "Diggs, Stefon",
          "Cooks, Brandin",
          "Jefferson, Van",
          "Boyd, Tyler",
          "Sutton, Courtland",
          "Smith-Schuster, JuJu",
          "Zaccheaus, Olamide",
          "Smith, Tre'Quan",
          "Tate, Auden",
          "Watson, Christian",
          "Jones, Velus"
         ],
         "textposition": "auto",
         "type": "bar",
         "x": [
          "WFF",
          "WFF",
          "WFF",
          "WFF",
          "WFF",
          "SAS",
          "SAS",
          "SAS",
          "SAS",
          "PBW",
          "PBW",
          "PBW",
          "PBW",
          "CRO",
          "CRO",
          "CRO",
          "CRO",
          "VER",
          "VER",
          "VER",
          "DWS",
          "DWS",
          "DWS",
          "DWS",
          "CAM",
          "CAM",
          "CAM",
          "CAM",
          "CAM",
          "IDK",
          "IDK",
          "IDK",
          "IDK",
          "GUS",
          "GUS",
          "GUS",
          "GUS",
          "OHS",
          "OHS",
          "OHS",
          "FNF",
          "FNF",
          "FNF",
          "PMS",
          "PMS",
          "PMS",
          "PMS",
          "FA",
          "FA",
          "FA",
          "FA",
          "FA"
         ],
         "xaxis": "x",
         "y": [
          136.5866683959961,
          57.95333150227865,
          185.5799967447917,
          29.87999979654948,
          32.55333251953126,
          55.18333129882813,
          28.57666575113933,
          98.43000030517578,
          113.6899993896484,
          168.276665242513,
          27.03666585286459,
          86.41333363850912,
          29.72333119710287,
          60.63999938964844,
          64.59999898274741,
          38.53333435058595,
          51.48333333333334,
          1.186666361490888,
          148.390000406901,
          78.85000101725261,
          40.01333363850912,
          43.36333363850912,
          77.62000223795573,
          34.91000061035157,
          49.13333384195964,
          5.279999287923182,
          17.1933329264323,
          46.50333404541016,
          30.10333302815756,
          42.08000030517579,
          76.48333485921225,
          75.0433339436849,
          69.01999969482422,
          12.42333196004232,
          30.86333312988282,
          72.17333374023438,
          66.56333262125652,
          -28.67333348592122,
          126.8100001017253,
          -8.01000086466471,
          24.01333160400391,
          79.9000005086263,
          52.39333140055339,
          -11.6566670735677,
          4.09666646321615,
          4.646666208903,
          62.58333333333334,
          6.969998168945317,
          -0.9633331298828077,
          22.73999888102215,
          9.293331654866542,
          -9.373333994547522
         ],
         "yaxis": "y"
        },
        {
         "alignmentgroup": "True",
         "hovertemplate": "Position=TE<br>FranchiseCode=%{x}<br>Regressed=%{y}<br>Name=%{text}<extra></extra>",
         "legendgroup": "TE",
         "marker": {
          "color": "#1295ad",
          "pattern": {
           "shape": ""
          }
         },
         "name": "TE",
         "offsetgroup": "TE",
         "orientation": "v",
         "showlegend": true,
         "text": [
          "Smith Jr., Irv",
          "Ertz, Zach",
          "Hockenson, T.J.",
          "Freiermuth, Pat",
          "Goedert, Dallas",
          "Jordan, Brevin",
          "Andrews, Mark",
          "Gesicki, Mike",
          "Knox, Dawson",
          "Kelce, Travis",
          "Njoku, David",
          "Gronkowski, Rob",
          "Seals-Jones, Ricky",
          "Everett, Gerald",
          "Waller, Darren",
          "Kittle, George",
          "Cook, Jared",
          "Hurst, Hayden",
          "Alie-Cox, Mo",
          "Thomas, Logan",
          "Fant, Noah",
          "Hooper, Austin",
          "Pitts, Kyle",
          "Henry, Hunter",
          "Tonyan, Robert",
          "Schultz, Dalton",
          "Higbee, Tyler",
          "Okwuegbunam, Albert",
          "Arnold, Dan",
          "Smith, Jonnu",
          "Brate, Cameron"
         ],
         "textposition": "auto",
         "type": "bar",
         "x": [
          "WFF",
          "WFF",
          "SAS",
          "SAS",
          "SAS",
          "PBW",
          "PBW",
          "CRO",
          "CRO",
          "VER",
          "VER",
          "DWS",
          "DWS",
          "CAM",
          "CAM",
          "CAM",
          "IDK",
          "IDK",
          "GUS",
          "GUS",
          "GUS",
          "OHS",
          "OHS",
          "OHS",
          "FNF",
          "FNF",
          "PMS",
          "PMS",
          "FA",
          "FA",
          "FA"
         ],
         "xaxis": "x",
         "y": [
          25.89000015258789,
          63.39000040690104,
          54.21999969482422,
          47.53999989827474,
          71.43999837239582,
          -12.14333305358887,
          127.1500020345052,
          57.02666575113932,
          59.83333180745442,
          144.1933349609375,
          51.48666585286458,
          56.44999872843424,
          1.333333333333331,
          41.47999954223633,
          103.8266693115234,
          85.67000020345051,
          16.52666702270507,
          0.3133332570393854,
          -1.966666539510094,
          30.71666539510091,
          36.1033322652181,
          2.309999593098956,
          67.74999949137369,
          31.77999852498372,
          12.81666666666666,
          75.89999847412109,
          20.96666666666667,
          28.73999938964844,
          -10.90000012715658,
          -9.533333460489912,
          -8.010000737508141
         ],
         "yaxis": "y"
        }
       ],
       "layout": {
        "barmode": "stack",
        "legend": {
         "title": {
          "text": "Position"
         },
         "tracegroupgap": 0
        },
        "margin": {
         "t": 60
        },
        "template": {
         "data": {
          "bar": [
           {
            "error_x": {
             "color": "#2a3f5f"
            },
            "error_y": {
             "color": "#2a3f5f"
            },
            "marker": {
             "line": {
              "color": "#E5ECF6",
              "width": 0.5
             },
             "pattern": {
              "fillmode": "overlay",
              "size": 10,
              "solidity": 0.2
             }
            },
            "type": "bar"
           }
          ],
          "barpolar": [
           {
            "marker": {
             "line": {
              "color": "#E5ECF6",
              "width": 0.5
             },
             "pattern": {
              "fillmode": "overlay",
              "size": 10,
              "solidity": 0.2
             }
            },
            "type": "barpolar"
           }
          ],
          "carpet": [
           {
            "aaxis": {
             "endlinecolor": "#2a3f5f",
             "gridcolor": "white",
             "linecolor": "white",
             "minorgridcolor": "white",
             "startlinecolor": "#2a3f5f"
            },
            "baxis": {
             "endlinecolor": "#2a3f5f",
             "gridcolor": "white",
             "linecolor": "white",
             "minorgridcolor": "white",
             "startlinecolor": "#2a3f5f"
            },
            "type": "carpet"
           }
          ],
          "choropleth": [
           {
            "colorbar": {
             "outlinewidth": 0,
             "ticks": ""
            },
            "type": "choropleth"
           }
          ],
          "contour": [
           {
            "colorbar": {
             "outlinewidth": 0,
             "ticks": ""
            },
            "colorscale": [
             [
              0,
              "#0d0887"
             ],
             [
              0.1111111111111111,
              "#46039f"
             ],
             [
              0.2222222222222222,
              "#7201a8"
             ],
             [
              0.3333333333333333,
              "#9c179e"
             ],
             [
              0.4444444444444444,
              "#bd3786"
             ],
             [
              0.5555555555555556,
              "#d8576b"
             ],
             [
              0.6666666666666666,
              "#ed7953"
             ],
             [
              0.7777777777777778,
              "#fb9f3a"
             ],
             [
              0.8888888888888888,
              "#fdca26"
             ],
             [
              1,
              "#f0f921"
             ]
            ],
            "type": "contour"
           }
          ],
          "contourcarpet": [
           {
            "colorbar": {
             "outlinewidth": 0,
             "ticks": ""
            },
            "type": "contourcarpet"
           }
          ],
          "heatmap": [
           {
            "colorbar": {
             "outlinewidth": 0,
             "ticks": ""
            },
            "colorscale": [
             [
              0,
              "#0d0887"
             ],
             [
              0.1111111111111111,
              "#46039f"
             ],
             [
              0.2222222222222222,
              "#7201a8"
             ],
             [
              0.3333333333333333,
              "#9c179e"
             ],
             [
              0.4444444444444444,
              "#bd3786"
             ],
             [
              0.5555555555555556,
              "#d8576b"
             ],
             [
              0.6666666666666666,
              "#ed7953"
             ],
             [
              0.7777777777777778,
              "#fb9f3a"
             ],
             [
              0.8888888888888888,
              "#fdca26"
             ],
             [
              1,
              "#f0f921"
             ]
            ],
            "type": "heatmap"
           }
          ],
          "heatmapgl": [
           {
            "colorbar": {
             "outlinewidth": 0,
             "ticks": ""
            },
            "colorscale": [
             [
              0,
              "#0d0887"
             ],
             [
              0.1111111111111111,
              "#46039f"
             ],
             [
              0.2222222222222222,
              "#7201a8"
             ],
             [
              0.3333333333333333,
              "#9c179e"
             ],
             [
              0.4444444444444444,
              "#bd3786"
             ],
             [
              0.5555555555555556,
              "#d8576b"
             ],
             [
              0.6666666666666666,
              "#ed7953"
             ],
             [
              0.7777777777777778,
              "#fb9f3a"
             ],
             [
              0.8888888888888888,
              "#fdca26"
             ],
             [
              1,
              "#f0f921"
             ]
            ],
            "type": "heatmapgl"
           }
          ],
          "histogram": [
           {
            "marker": {
             "pattern": {
              "fillmode": "overlay",
              "size": 10,
              "solidity": 0.2
             }
            },
            "type": "histogram"
           }
          ],
          "histogram2d": [
           {
            "colorbar": {
             "outlinewidth": 0,
             "ticks": ""
            },
            "colorscale": [
             [
              0,
              "#0d0887"
             ],
             [
              0.1111111111111111,
              "#46039f"
             ],
             [
              0.2222222222222222,
              "#7201a8"
             ],
             [
              0.3333333333333333,
              "#9c179e"
             ],
             [
              0.4444444444444444,
              "#bd3786"
             ],
             [
              0.5555555555555556,
              "#d8576b"
             ],
             [
              0.6666666666666666,
              "#ed7953"
             ],
             [
              0.7777777777777778,
              "#fb9f3a"
             ],
             [
              0.8888888888888888,
              "#fdca26"
             ],
             [
              1,
              "#f0f921"
             ]
            ],
            "type": "histogram2d"
           }
          ],
          "histogram2dcontour": [
           {
            "colorbar": {
             "outlinewidth": 0,
             "ticks": ""
            },
            "colorscale": [
             [
              0,
              "#0d0887"
             ],
             [
              0.1111111111111111,
              "#46039f"
             ],
             [
              0.2222222222222222,
              "#7201a8"
             ],
             [
              0.3333333333333333,
              "#9c179e"
             ],
             [
              0.4444444444444444,
              "#bd3786"
             ],
             [
              0.5555555555555556,
              "#d8576b"
             ],
             [
              0.6666666666666666,
              "#ed7953"
             ],
             [
              0.7777777777777778,
              "#fb9f3a"
             ],
             [
              0.8888888888888888,
              "#fdca26"
             ],
             [
              1,
              "#f0f921"
             ]
            ],
            "type": "histogram2dcontour"
           }
          ],
          "mesh3d": [
           {
            "colorbar": {
             "outlinewidth": 0,
             "ticks": ""
            },
            "type": "mesh3d"
           }
          ],
          "parcoords": [
           {
            "line": {
             "colorbar": {
              "outlinewidth": 0,
              "ticks": ""
             }
            },
            "type": "parcoords"
           }
          ],
          "pie": [
           {
            "automargin": true,
            "type": "pie"
           }
          ],
          "scatter": [
           {
            "fillpattern": {
             "fillmode": "overlay",
             "size": 10,
             "solidity": 0.2
            },
            "type": "scatter"
           }
          ],
          "scatter3d": [
           {
            "line": {
             "colorbar": {
              "outlinewidth": 0,
              "ticks": ""
             }
            },
            "marker": {
             "colorbar": {
              "outlinewidth": 0,
              "ticks": ""
             }
            },
            "type": "scatter3d"
           }
          ],
          "scattercarpet": [
           {
            "marker": {
             "colorbar": {
              "outlinewidth": 0,
              "ticks": ""
             }
            },
            "type": "scattercarpet"
           }
          ],
          "scattergeo": [
           {
            "marker": {
             "colorbar": {
              "outlinewidth": 0,
              "ticks": ""
             }
            },
            "type": "scattergeo"
           }
          ],
          "scattergl": [
           {
            "marker": {
             "colorbar": {
              "outlinewidth": 0,
              "ticks": ""
             }
            },
            "type": "scattergl"
           }
          ],
          "scattermapbox": [
           {
            "marker": {
             "colorbar": {
              "outlinewidth": 0,
              "ticks": ""
             }
            },
            "type": "scattermapbox"
           }
          ],
          "scatterpolar": [
           {
            "marker": {
             "colorbar": {
              "outlinewidth": 0,
              "ticks": ""
             }
            },
            "type": "scatterpolar"
           }
          ],
          "scatterpolargl": [
           {
            "marker": {
             "colorbar": {
              "outlinewidth": 0,
              "ticks": ""
             }
            },
            "type": "scatterpolargl"
           }
          ],
          "scatterternary": [
           {
            "marker": {
             "colorbar": {
              "outlinewidth": 0,
              "ticks": ""
             }
            },
            "type": "scatterternary"
           }
          ],
          "surface": [
           {
            "colorbar": {
             "outlinewidth": 0,
             "ticks": ""
            },
            "colorscale": [
             [
              0,
              "#0d0887"
             ],
             [
              0.1111111111111111,
              "#46039f"
             ],
             [
              0.2222222222222222,
              "#7201a8"
             ],
             [
              0.3333333333333333,
              "#9c179e"
             ],
             [
              0.4444444444444444,
              "#bd3786"
             ],
             [
              0.5555555555555556,
              "#d8576b"
             ],
             [
              0.6666666666666666,
              "#ed7953"
             ],
             [
              0.7777777777777778,
              "#fb9f3a"
             ],
             [
              0.8888888888888888,
              "#fdca26"
             ],
             [
              1,
              "#f0f921"
             ]
            ],
            "type": "surface"
           }
          ],
          "table": [
           {
            "cells": {
             "fill": {
              "color": "#EBF0F8"
             },
             "line": {
              "color": "white"
             }
            },
            "header": {
             "fill": {
              "color": "#C8D4E3"
             },
             "line": {
              "color": "white"
             }
            },
            "type": "table"
           }
          ]
         },
         "layout": {
          "annotationdefaults": {
           "arrowcolor": "#2a3f5f",
           "arrowhead": 0,
           "arrowwidth": 1
          },
          "autotypenumbers": "strict",
          "coloraxis": {
           "colorbar": {
            "outlinewidth": 0,
            "ticks": ""
           }
          },
          "colorscale": {
           "diverging": [
            [
             0,
             "#8e0152"
            ],
            [
             0.1,
             "#c51b7d"
            ],
            [
             0.2,
             "#de77ae"
            ],
            [
             0.3,
             "#f1b6da"
            ],
            [
             0.4,
             "#fde0ef"
            ],
            [
             0.5,
             "#f7f7f7"
            ],
            [
             0.6,
             "#e6f5d0"
            ],
            [
             0.7,
             "#b8e186"
            ],
            [
             0.8,
             "#7fbc41"
            ],
            [
             0.9,
             "#4d9221"
            ],
            [
             1,
             "#276419"
            ]
           ],
           "sequential": [
            [
             0,
             "#0d0887"
            ],
            [
             0.1111111111111111,
             "#46039f"
            ],
            [
             0.2222222222222222,
             "#7201a8"
            ],
            [
             0.3333333333333333,
             "#9c179e"
            ],
            [
             0.4444444444444444,
             "#bd3786"
            ],
            [
             0.5555555555555556,
             "#d8576b"
            ],
            [
             0.6666666666666666,
             "#ed7953"
            ],
            [
             0.7777777777777778,
             "#fb9f3a"
            ],
            [
             0.8888888888888888,
             "#fdca26"
            ],
            [
             1,
             "#f0f921"
            ]
           ],
           "sequentialminus": [
            [
             0,
             "#0d0887"
            ],
            [
             0.1111111111111111,
             "#46039f"
            ],
            [
             0.2222222222222222,
             "#7201a8"
            ],
            [
             0.3333333333333333,
             "#9c179e"
            ],
            [
             0.4444444444444444,
             "#bd3786"
            ],
            [
             0.5555555555555556,
             "#d8576b"
            ],
            [
             0.6666666666666666,
             "#ed7953"
            ],
            [
             0.7777777777777778,
             "#fb9f3a"
            ],
            [
             0.8888888888888888,
             "#fdca26"
            ],
            [
             1,
             "#f0f921"
            ]
           ]
          },
          "colorway": [
           "#636efa",
           "#EF553B",
           "#00cc96",
           "#ab63fa",
           "#FFA15A",
           "#19d3f3",
           "#FF6692",
           "#B6E880",
           "#FF97FF",
           "#FECB52"
          ],
          "font": {
           "color": "#2a3f5f"
          },
          "geo": {
           "bgcolor": "white",
           "lakecolor": "white",
           "landcolor": "#E5ECF6",
           "showlakes": true,
           "showland": true,
           "subunitcolor": "white"
          },
          "hoverlabel": {
           "align": "left"
          },
          "hovermode": "closest",
          "mapbox": {
           "style": "light"
          },
          "paper_bgcolor": "white",
          "plot_bgcolor": "#E5ECF6",
          "polar": {
           "angularaxis": {
            "gridcolor": "white",
            "linecolor": "white",
            "ticks": ""
           },
           "bgcolor": "#E5ECF6",
           "radialaxis": {
            "gridcolor": "white",
            "linecolor": "white",
            "ticks": ""
           }
          },
          "scene": {
           "xaxis": {
            "backgroundcolor": "#E5ECF6",
            "gridcolor": "white",
            "gridwidth": 2,
            "linecolor": "white",
            "showbackground": true,
            "ticks": "",
            "zerolinecolor": "white"
           },
           "yaxis": {
            "backgroundcolor": "#E5ECF6",
            "gridcolor": "white",
            "gridwidth": 2,
            "linecolor": "white",
            "showbackground": true,
            "ticks": "",
            "zerolinecolor": "white"
           },
           "zaxis": {
            "backgroundcolor": "#E5ECF6",
            "gridcolor": "white",
            "gridwidth": 2,
            "linecolor": "white",
            "showbackground": true,
            "ticks": "",
            "zerolinecolor": "white"
           }
          },
          "shapedefaults": {
           "line": {
            "color": "#2a3f5f"
           }
          },
          "ternary": {
           "aaxis": {
            "gridcolor": "white",
            "linecolor": "white",
            "ticks": ""
           },
           "baxis": {
            "gridcolor": "white",
            "linecolor": "white",
            "ticks": ""
           },
           "bgcolor": "#E5ECF6",
           "caxis": {
            "gridcolor": "white",
            "linecolor": "white",
            "ticks": ""
           }
          },
          "title": {
           "x": 0.05
          },
          "xaxis": {
           "automargin": true,
           "gridcolor": "white",
           "linecolor": "white",
           "ticks": "",
           "title": {
            "standoff": 15
           },
           "zerolinecolor": "white",
           "zerolinewidth": 2
          },
          "yaxis": {
           "automargin": true,
           "gridcolor": "white",
           "linecolor": "white",
           "ticks": "",
           "title": {
            "standoff": 15
           },
           "zerolinecolor": "white",
           "zerolinewidth": 2
          }
         }
        },
        "xaxis": {
         "anchor": "y",
         "categoryorder": "total descending",
         "domain": [
          0,
          1
         ],
         "title": {
          "text": "FranchiseCode"
         }
        },
        "yaxis": {
         "anchor": "x",
         "domain": [
          0,
          1
         ],
         "title": {
          "text": "Regressed"
         }
        }
       }
      },
      "text/html": [
       "<div>                            <div id=\"762103b2-96d6-49dc-b853-98211078a028\" class=\"plotly-graph-div\" style=\"height:525px; width:100%;\"></div>            <script type=\"text/javascript\">                require([\"plotly\"], function(Plotly) {                    window.PLOTLYENV=window.PLOTLYENV || {};                                    if (document.getElementById(\"762103b2-96d6-49dc-b853-98211078a028\")) {                    Plotly.newPlot(                        \"762103b2-96d6-49dc-b853-98211078a028\",                        [{\"alignmentgroup\":\"True\",\"hovertemplate\":\"Position=RB<br>FranchiseCode=%{x}<br>Regressed=%{y}<br>Name=%{text}<extra></extra>\",\"legendgroup\":\"RB\",\"marker\":{\"color\":\"#1033a6\",\"pattern\":{\"shape\":\"\"}},\"name\":\"RB\",\"offsetgroup\":\"RB\",\"orientation\":\"v\",\"showlegend\":true,\"text\":[\"Harris, Najee\",\"Harris, Damien\",\"Barkley, Saquon\",\"Williams, Javonte\",\"Sanders, Miles\",\"Fournette, Leonard\",\"Dobbins, J.K.\",\"Jacobs, Josh\",\"Montgomery, David\",\"Mixon, Joe\",\"Etienne, Travis\",\"Mitchell, Elijah\",\"Elliott, Ezekiel\",\"Singletary, Devin\",\"Edmonds, Chase\",\"Jones, Aaron\",\"Chubb, Nick\",\"McCaffrey, Christian\",\"Conner, James\",\"Hunt, Kareem\",\"Ekeler, Austin\",\"Kamara, Alvin\",\"Cook, Dalvin\",\"Akers, Cam\",\"Robinson, James\",\"Benjamin, Eno\",\"Taylor, Jonathan\",\"Henry, Derrick\",\"Gibson, Antonio\",\"White, James\",\"McKissic, J.D.\",\"Edwards-Helaire, Clyde\",\"Davis, Mike\",\"Patterson, Cordarrelle\",\"Dillon, AJ\",\"Swift, D'Andre\",\"Walker III, Kenneth\",\"Hall, Breece\"],\"textposition\":\"auto\",\"x\":[\"WFF\",\"WFF\",\"SAS\",\"SAS\",\"PBW\",\"PBW\",\"PBW\",\"CRO\",\"CRO\",\"CRO\",\"VER\",\"VER\",\"VER\",\"VER\",\"DWS\",\"DWS\",\"DWS\",\"CAM\",\"CAM\",\"IDK\",\"IDK\",\"IDK\",\"GUS\",\"GUS\",\"GUS\",\"OHS\",\"OHS\",\"OHS\",\"OHS\",\"FNF\",\"FNF\",\"FNF\",\"FNF\",\"PMS\",\"PMS\",\"PMS\",\"FA\",\"FA\"],\"xaxis\":\"x\",\"y\":[93.7933334350586,43.00666809082031,117.1133310953776,68.05333404541017,35.62666778564454,122.3733306884766,38.35333506266276,72.21666564941407,112.9466664632161,120.9333307902018,48.00333557128906,61.67999877929687,105.6766662597656,64.72666727701824,32.64666646321615,89.08333384195963,131.5499969482422,146.439995320638,79.74000040690105,29.33999938964844,224.9333292643229,101.083332824707,163.9766642252604,77.76333312988281,53.94666798909505,-5.350001780192057,201.6033325195312,175.2899983723958,76.24666544596354,14.22999928792318,12.16333363850912,57.59666646321615,6.32333475748698,34.43333333333334,23.11333363850912,82.91333516438802,63.10333302815756,25.9933349609375],\"yaxis\":\"y\",\"type\":\"bar\"},{\"alignmentgroup\":\"True\",\"hovertemplate\":\"Position=QB<br>FranchiseCode=%{x}<br>Regressed=%{y}<br>Name=%{text}<extra></extra>\",\"legendgroup\":\"QB\",\"marker\":{\"color\":\"#f5d000\",\"pattern\":{\"shape\":\"\"}},\"name\":\"QB\",\"offsetgroup\":\"QB\",\"orientation\":\"v\",\"showlegend\":true,\"text\":[\"Cousins, Kirk\",\"Brady, Tom\",\"Carr, Derek\",\"Mahomes, Patrick\",\"Rodgers, Aaron\",\"Watson, Deshaun\",\"Hurts, Jalen\",\"Murray, Kyler\",\"Tagovailoa, Tua\",\"Burrow, Joe\",\"Tannehill, Ryan\",\"Herbert, Justin\",\"Wilson, Russell\",\"Garoppolo, Jimmy\",\"Fields, Justin\",\"Jackson, Lamar\",\"Mills, Davis\",\"Stafford, Matthew\",\"Allen, Josh\",\"Winston, Jameis\",\"Prescott, Dak\",\"Huntley, Tyler\"],\"textposition\":\"auto\",\"x\":[\"WFF\",\"WFF\",\"SAS\",\"SAS\",\"PBW\",\"PBW\",\"CRO\",\"CRO\",\"VER\",\"VER\",\"DWS\",\"DWS\",\"CAM\",\"IDK\",\"IDK\",\"GUS\",\"OHS\",\"FNF\",\"FNF\",\"PMS\",\"PMS\",\"FA\"],\"xaxis\":\"x\",\"y\":[118.0800008138021,171.6466644287109,102.4066685994466,193.4099985758464,136.6400014241536,130.5433349609375,58.81666564941407,163.4633321126302,47.61000010172526,67.9433334350586,61.70666554768881,178.0466674804688,123.3500020345052,22.27999674479167,31.95666605631511,145.0699991861979,34.00666656494141,85.60000152587891,205.3499979654948,41.47666524251303,153.9299977620443,-30.4133305867513],\"yaxis\":\"y\",\"type\":\"bar\"},{\"alignmentgroup\":\"True\",\"hovertemplate\":\"Position=WR<br>FranchiseCode=%{x}<br>Regressed=%{y}<br>Name=%{text}<extra></extra>\",\"legendgroup\":\"WR\",\"marker\":{\"color\":\"#643fc1\",\"pattern\":{\"shape\":\"\"}},\"name\":\"WR\",\"offsetgroup\":\"WR\",\"orientation\":\"v\",\"showlegend\":true,\"text\":[\"Samuel, Deebo\",\"Metcalf, DK\",\"Kupp, Cooper\",\"Higgins, Tee\",\"Davis, Gabriel\",\"Robinson, Allen\",\"Bateman, Rashod\",\"Hill, Tyreek\",\"Chase, Ja'Marr\",\"Jefferson, Justin\",\"Brown, A.J.\",\"Allen, Keenan\",\"Jones, Marvin\",\"Godwin, Chris\",\"Mooney, Darnell\",\"Lazard, Allen\",\"Moore, D.J.\",\"Hopkins, DeAndre\",\"Adams, Davante\",\"Cooper, Amari\",\"St. Brown, Amon-Ra\",\"McLaurin, Terry\",\"Evans, Mike\",\"Landry, Jarvis\",\"Lockett, Tyler\",\"Bourne, Kendrick\",\"Meyers, Jakobi\",\"Chark, D.J.\",\"Parker, DeVante\",\"Williams, Mike\",\"Thielen, Adam\",\"Johnson, Diontae\",\"Thomas, Michael\",\"Kirk, Christian\",\"Renfrow, Hunter\",\"Pittman, Michael\",\"Waddle, Jaylen\",\"Shenault, Laviska\",\"Lamb, CeeDee\",\"Smith, DeVonta\",\"Gallup, Michael\",\"Diggs, Stefon\",\"Cooks, Brandin\",\"Jefferson, Van\",\"Boyd, Tyler\",\"Sutton, Courtland\",\"Smith-Schuster, JuJu\",\"Zaccheaus, Olamide\",\"Smith, Tre'Quan\",\"Tate, Auden\",\"Watson, Christian\",\"Jones, Velus\"],\"textposition\":\"auto\",\"x\":[\"WFF\",\"WFF\",\"WFF\",\"WFF\",\"WFF\",\"SAS\",\"SAS\",\"SAS\",\"SAS\",\"PBW\",\"PBW\",\"PBW\",\"PBW\",\"CRO\",\"CRO\",\"CRO\",\"CRO\",\"VER\",\"VER\",\"VER\",\"DWS\",\"DWS\",\"DWS\",\"DWS\",\"CAM\",\"CAM\",\"CAM\",\"CAM\",\"CAM\",\"IDK\",\"IDK\",\"IDK\",\"IDK\",\"GUS\",\"GUS\",\"GUS\",\"GUS\",\"OHS\",\"OHS\",\"OHS\",\"FNF\",\"FNF\",\"FNF\",\"PMS\",\"PMS\",\"PMS\",\"PMS\",\"FA\",\"FA\",\"FA\",\"FA\",\"FA\"],\"xaxis\":\"x\",\"y\":[136.5866683959961,57.95333150227865,185.5799967447917,29.87999979654948,32.55333251953126,55.18333129882813,28.57666575113933,98.43000030517578,113.6899993896484,168.276665242513,27.03666585286459,86.41333363850912,29.72333119710287,60.63999938964844,64.59999898274741,38.53333435058595,51.48333333333334,1.186666361490888,148.390000406901,78.85000101725261,40.01333363850912,43.36333363850912,77.62000223795573,34.91000061035157,49.13333384195964,5.279999287923182,17.1933329264323,46.50333404541016,30.10333302815756,42.08000030517579,76.48333485921225,75.0433339436849,69.01999969482422,12.42333196004232,30.86333312988282,72.17333374023438,66.56333262125652,-28.67333348592122,126.8100001017253,-8.01000086466471,24.01333160400391,79.9000005086263,52.39333140055339,-11.6566670735677,4.09666646321615,4.646666208903,62.58333333333334,6.969998168945317,-0.9633331298828077,22.73999888102215,9.293331654866542,-9.373333994547522],\"yaxis\":\"y\",\"type\":\"bar\"},{\"alignmentgroup\":\"True\",\"hovertemplate\":\"Position=TE<br>FranchiseCode=%{x}<br>Regressed=%{y}<br>Name=%{text}<extra></extra>\",\"legendgroup\":\"TE\",\"marker\":{\"color\":\"#1295ad\",\"pattern\":{\"shape\":\"\"}},\"name\":\"TE\",\"offsetgroup\":\"TE\",\"orientation\":\"v\",\"showlegend\":true,\"text\":[\"Smith Jr., Irv\",\"Ertz, Zach\",\"Hockenson, T.J.\",\"Freiermuth, Pat\",\"Goedert, Dallas\",\"Jordan, Brevin\",\"Andrews, Mark\",\"Gesicki, Mike\",\"Knox, Dawson\",\"Kelce, Travis\",\"Njoku, David\",\"Gronkowski, Rob\",\"Seals-Jones, Ricky\",\"Everett, Gerald\",\"Waller, Darren\",\"Kittle, George\",\"Cook, Jared\",\"Hurst, Hayden\",\"Alie-Cox, Mo\",\"Thomas, Logan\",\"Fant, Noah\",\"Hooper, Austin\",\"Pitts, Kyle\",\"Henry, Hunter\",\"Tonyan, Robert\",\"Schultz, Dalton\",\"Higbee, Tyler\",\"Okwuegbunam, Albert\",\"Arnold, Dan\",\"Smith, Jonnu\",\"Brate, Cameron\"],\"textposition\":\"auto\",\"x\":[\"WFF\",\"WFF\",\"SAS\",\"SAS\",\"SAS\",\"PBW\",\"PBW\",\"CRO\",\"CRO\",\"VER\",\"VER\",\"DWS\",\"DWS\",\"CAM\",\"CAM\",\"CAM\",\"IDK\",\"IDK\",\"GUS\",\"GUS\",\"GUS\",\"OHS\",\"OHS\",\"OHS\",\"FNF\",\"FNF\",\"PMS\",\"PMS\",\"FA\",\"FA\",\"FA\"],\"xaxis\":\"x\",\"y\":[25.89000015258789,63.39000040690104,54.21999969482422,47.53999989827474,71.43999837239582,-12.14333305358887,127.1500020345052,57.02666575113932,59.83333180745442,144.1933349609375,51.48666585286458,56.44999872843424,1.333333333333331,41.47999954223633,103.8266693115234,85.67000020345051,16.52666702270507,0.3133332570393854,-1.966666539510094,30.71666539510091,36.1033322652181,2.309999593098956,67.74999949137369,31.77999852498372,12.81666666666666,75.89999847412109,20.96666666666667,28.73999938964844,-10.90000012715658,-9.533333460489912,-8.010000737508141],\"yaxis\":\"y\",\"type\":\"bar\"}],                        {\"template\":{\"data\":{\"histogram2dcontour\":[{\"type\":\"histogram2dcontour\",\"colorbar\":{\"outlinewidth\":0,\"ticks\":\"\"},\"colorscale\":[[0.0,\"#0d0887\"],[0.1111111111111111,\"#46039f\"],[0.2222222222222222,\"#7201a8\"],[0.3333333333333333,\"#9c179e\"],[0.4444444444444444,\"#bd3786\"],[0.5555555555555556,\"#d8576b\"],[0.6666666666666666,\"#ed7953\"],[0.7777777777777778,\"#fb9f3a\"],[0.8888888888888888,\"#fdca26\"],[1.0,\"#f0f921\"]]}],\"choropleth\":[{\"type\":\"choropleth\",\"colorbar\":{\"outlinewidth\":0,\"ticks\":\"\"}}],\"histogram2d\":[{\"type\":\"histogram2d\",\"colorbar\":{\"outlinewidth\":0,\"ticks\":\"\"},\"colorscale\":[[0.0,\"#0d0887\"],[0.1111111111111111,\"#46039f\"],[0.2222222222222222,\"#7201a8\"],[0.3333333333333333,\"#9c179e\"],[0.4444444444444444,\"#bd3786\"],[0.5555555555555556,\"#d8576b\"],[0.6666666666666666,\"#ed7953\"],[0.7777777777777778,\"#fb9f3a\"],[0.8888888888888888,\"#fdca26\"],[1.0,\"#f0f921\"]]}],\"heatmap\":[{\"type\":\"heatmap\",\"colorbar\":{\"outlinewidth\":0,\"ticks\":\"\"},\"colorscale\":[[0.0,\"#0d0887\"],[0.1111111111111111,\"#46039f\"],[0.2222222222222222,\"#7201a8\"],[0.3333333333333333,\"#9c179e\"],[0.4444444444444444,\"#bd3786\"],[0.5555555555555556,\"#d8576b\"],[0.6666666666666666,\"#ed7953\"],[0.7777777777777778,\"#fb9f3a\"],[0.8888888888888888,\"#fdca26\"],[1.0,\"#f0f921\"]]}],\"heatmapgl\":[{\"type\":\"heatmapgl\",\"colorbar\":{\"outlinewidth\":0,\"ticks\":\"\"},\"colorscale\":[[0.0,\"#0d0887\"],[0.1111111111111111,\"#46039f\"],[0.2222222222222222,\"#7201a8\"],[0.3333333333333333,\"#9c179e\"],[0.4444444444444444,\"#bd3786\"],[0.5555555555555556,\"#d8576b\"],[0.6666666666666666,\"#ed7953\"],[0.7777777777777778,\"#fb9f3a\"],[0.8888888888888888,\"#fdca26\"],[1.0,\"#f0f921\"]]}],\"contourcarpet\":[{\"type\":\"contourcarpet\",\"colorbar\":{\"outlinewidth\":0,\"ticks\":\"\"}}],\"contour\":[{\"type\":\"contour\",\"colorbar\":{\"outlinewidth\":0,\"ticks\":\"\"},\"colorscale\":[[0.0,\"#0d0887\"],[0.1111111111111111,\"#46039f\"],[0.2222222222222222,\"#7201a8\"],[0.3333333333333333,\"#9c179e\"],[0.4444444444444444,\"#bd3786\"],[0.5555555555555556,\"#d8576b\"],[0.6666666666666666,\"#ed7953\"],[0.7777777777777778,\"#fb9f3a\"],[0.8888888888888888,\"#fdca26\"],[1.0,\"#f0f921\"]]}],\"surface\":[{\"type\":\"surface\",\"colorbar\":{\"outlinewidth\":0,\"ticks\":\"\"},\"colorscale\":[[0.0,\"#0d0887\"],[0.1111111111111111,\"#46039f\"],[0.2222222222222222,\"#7201a8\"],[0.3333333333333333,\"#9c179e\"],[0.4444444444444444,\"#bd3786\"],[0.5555555555555556,\"#d8576b\"],[0.6666666666666666,\"#ed7953\"],[0.7777777777777778,\"#fb9f3a\"],[0.8888888888888888,\"#fdca26\"],[1.0,\"#f0f921\"]]}],\"mesh3d\":[{\"type\":\"mesh3d\",\"colorbar\":{\"outlinewidth\":0,\"ticks\":\"\"}}],\"scatter\":[{\"fillpattern\":{\"fillmode\":\"overlay\",\"size\":10,\"solidity\":0.2},\"type\":\"scatter\"}],\"parcoords\":[{\"type\":\"parcoords\",\"line\":{\"colorbar\":{\"outlinewidth\":0,\"ticks\":\"\"}}}],\"scatterpolargl\":[{\"type\":\"scatterpolargl\",\"marker\":{\"colorbar\":{\"outlinewidth\":0,\"ticks\":\"\"}}}],\"bar\":[{\"error_x\":{\"color\":\"#2a3f5f\"},\"error_y\":{\"color\":\"#2a3f5f\"},\"marker\":{\"line\":{\"color\":\"#E5ECF6\",\"width\":0.5},\"pattern\":{\"fillmode\":\"overlay\",\"size\":10,\"solidity\":0.2}},\"type\":\"bar\"}],\"scattergeo\":[{\"type\":\"scattergeo\",\"marker\":{\"colorbar\":{\"outlinewidth\":0,\"ticks\":\"\"}}}],\"scatterpolar\":[{\"type\":\"scatterpolar\",\"marker\":{\"colorbar\":{\"outlinewidth\":0,\"ticks\":\"\"}}}],\"histogram\":[{\"marker\":{\"pattern\":{\"fillmode\":\"overlay\",\"size\":10,\"solidity\":0.2}},\"type\":\"histogram\"}],\"scattergl\":[{\"type\":\"scattergl\",\"marker\":{\"colorbar\":{\"outlinewidth\":0,\"ticks\":\"\"}}}],\"scatter3d\":[{\"type\":\"scatter3d\",\"line\":{\"colorbar\":{\"outlinewidth\":0,\"ticks\":\"\"}},\"marker\":{\"colorbar\":{\"outlinewidth\":0,\"ticks\":\"\"}}}],\"scattermapbox\":[{\"type\":\"scattermapbox\",\"marker\":{\"colorbar\":{\"outlinewidth\":0,\"ticks\":\"\"}}}],\"scatterternary\":[{\"type\":\"scatterternary\",\"marker\":{\"colorbar\":{\"outlinewidth\":0,\"ticks\":\"\"}}}],\"scattercarpet\":[{\"type\":\"scattercarpet\",\"marker\":{\"colorbar\":{\"outlinewidth\":0,\"ticks\":\"\"}}}],\"carpet\":[{\"aaxis\":{\"endlinecolor\":\"#2a3f5f\",\"gridcolor\":\"white\",\"linecolor\":\"white\",\"minorgridcolor\":\"white\",\"startlinecolor\":\"#2a3f5f\"},\"baxis\":{\"endlinecolor\":\"#2a3f5f\",\"gridcolor\":\"white\",\"linecolor\":\"white\",\"minorgridcolor\":\"white\",\"startlinecolor\":\"#2a3f5f\"},\"type\":\"carpet\"}],\"table\":[{\"cells\":{\"fill\":{\"color\":\"#EBF0F8\"},\"line\":{\"color\":\"white\"}},\"header\":{\"fill\":{\"color\":\"#C8D4E3\"},\"line\":{\"color\":\"white\"}},\"type\":\"table\"}],\"barpolar\":[{\"marker\":{\"line\":{\"color\":\"#E5ECF6\",\"width\":0.5},\"pattern\":{\"fillmode\":\"overlay\",\"size\":10,\"solidity\":0.2}},\"type\":\"barpolar\"}],\"pie\":[{\"automargin\":true,\"type\":\"pie\"}]},\"layout\":{\"autotypenumbers\":\"strict\",\"colorway\":[\"#636efa\",\"#EF553B\",\"#00cc96\",\"#ab63fa\",\"#FFA15A\",\"#19d3f3\",\"#FF6692\",\"#B6E880\",\"#FF97FF\",\"#FECB52\"],\"font\":{\"color\":\"#2a3f5f\"},\"hovermode\":\"closest\",\"hoverlabel\":{\"align\":\"left\"},\"paper_bgcolor\":\"white\",\"plot_bgcolor\":\"#E5ECF6\",\"polar\":{\"bgcolor\":\"#E5ECF6\",\"angularaxis\":{\"gridcolor\":\"white\",\"linecolor\":\"white\",\"ticks\":\"\"},\"radialaxis\":{\"gridcolor\":\"white\",\"linecolor\":\"white\",\"ticks\":\"\"}},\"ternary\":{\"bgcolor\":\"#E5ECF6\",\"aaxis\":{\"gridcolor\":\"white\",\"linecolor\":\"white\",\"ticks\":\"\"},\"baxis\":{\"gridcolor\":\"white\",\"linecolor\":\"white\",\"ticks\":\"\"},\"caxis\":{\"gridcolor\":\"white\",\"linecolor\":\"white\",\"ticks\":\"\"}},\"coloraxis\":{\"colorbar\":{\"outlinewidth\":0,\"ticks\":\"\"}},\"colorscale\":{\"sequential\":[[0.0,\"#0d0887\"],[0.1111111111111111,\"#46039f\"],[0.2222222222222222,\"#7201a8\"],[0.3333333333333333,\"#9c179e\"],[0.4444444444444444,\"#bd3786\"],[0.5555555555555556,\"#d8576b\"],[0.6666666666666666,\"#ed7953\"],[0.7777777777777778,\"#fb9f3a\"],[0.8888888888888888,\"#fdca26\"],[1.0,\"#f0f921\"]],\"sequentialminus\":[[0.0,\"#0d0887\"],[0.1111111111111111,\"#46039f\"],[0.2222222222222222,\"#7201a8\"],[0.3333333333333333,\"#9c179e\"],[0.4444444444444444,\"#bd3786\"],[0.5555555555555556,\"#d8576b\"],[0.6666666666666666,\"#ed7953\"],[0.7777777777777778,\"#fb9f3a\"],[0.8888888888888888,\"#fdca26\"],[1.0,\"#f0f921\"]],\"diverging\":[[0,\"#8e0152\"],[0.1,\"#c51b7d\"],[0.2,\"#de77ae\"],[0.3,\"#f1b6da\"],[0.4,\"#fde0ef\"],[0.5,\"#f7f7f7\"],[0.6,\"#e6f5d0\"],[0.7,\"#b8e186\"],[0.8,\"#7fbc41\"],[0.9,\"#4d9221\"],[1,\"#276419\"]]},\"xaxis\":{\"gridcolor\":\"white\",\"linecolor\":\"white\",\"ticks\":\"\",\"title\":{\"standoff\":15},\"zerolinecolor\":\"white\",\"automargin\":true,\"zerolinewidth\":2},\"yaxis\":{\"gridcolor\":\"white\",\"linecolor\":\"white\",\"ticks\":\"\",\"title\":{\"standoff\":15},\"zerolinecolor\":\"white\",\"automargin\":true,\"zerolinewidth\":2},\"scene\":{\"xaxis\":{\"backgroundcolor\":\"#E5ECF6\",\"gridcolor\":\"white\",\"linecolor\":\"white\",\"showbackground\":true,\"ticks\":\"\",\"zerolinecolor\":\"white\",\"gridwidth\":2},\"yaxis\":{\"backgroundcolor\":\"#E5ECF6\",\"gridcolor\":\"white\",\"linecolor\":\"white\",\"showbackground\":true,\"ticks\":\"\",\"zerolinecolor\":\"white\",\"gridwidth\":2},\"zaxis\":{\"backgroundcolor\":\"#E5ECF6\",\"gridcolor\":\"white\",\"linecolor\":\"white\",\"showbackground\":true,\"ticks\":\"\",\"zerolinecolor\":\"white\",\"gridwidth\":2}},\"shapedefaults\":{\"line\":{\"color\":\"#2a3f5f\"}},\"annotationdefaults\":{\"arrowcolor\":\"#2a3f5f\",\"arrowhead\":0,\"arrowwidth\":1},\"geo\":{\"bgcolor\":\"white\",\"landcolor\":\"#E5ECF6\",\"subunitcolor\":\"white\",\"showland\":true,\"showlakes\":true,\"lakecolor\":\"white\"},\"title\":{\"x\":0.05},\"mapbox\":{\"style\":\"light\"}}},\"xaxis\":{\"anchor\":\"y\",\"domain\":[0.0,1.0],\"title\":{\"text\":\"FranchiseCode\"},\"categoryorder\":\"total descending\"},\"yaxis\":{\"anchor\":\"x\",\"domain\":[0.0,1.0],\"title\":{\"text\":\"Regressed\"}},\"legend\":{\"title\":{\"text\":\"Position\"},\"tracegroupgap\":0},\"margin\":{\"t\":60},\"barmode\":\"stack\"},                        {\"responsive\": true}                    ).then(function(){\n",
       "                            \n",
       "var gd = document.getElementById('762103b2-96d6-49dc-b853-98211078a028');\n",
       "var x = new MutationObserver(function (mutations, observer) {{\n",
       "        var display = window.getComputedStyle(gd).display;\n",
       "        if (!display || display === 'none') {{\n",
       "            console.log([gd, 'removed!']);\n",
       "            Plotly.purge(gd);\n",
       "            observer.disconnect();\n",
       "        }}\n",
       "}});\n",
       "\n",
       "// Listen for the removal of the full notebook cells\n",
       "var notebookContainer = gd.closest('#notebook-container');\n",
       "if (notebookContainer) {{\n",
       "    x.observe(notebookContainer, {childList: true});\n",
       "}}\n",
       "\n",
       "// Listen for the clearing of the current output cell\n",
       "var outputEl = gd.closest('.output');\n",
       "if (outputEl) {{\n",
       "    x.observe(outputEl, {childList: true});\n",
       "}}\n",
       "\n",
       "                        })                };                });            </script>        </div>"
      ]
     },
     "metadata": {},
     "output_type": "display_data"
    }
   ],
   "source": [
    "sorter = fran_rank.index\n",
    "\n",
    "fran_rost.FranchiseCode = fran_rost.FranchiseCode.astype(\"category\")\n",
    "fran_rost.FranchiseCode.cat.set_categories(sorter, inplace=True)\n",
    "fran_rost.sort_values([\"FranchiseCode\"], inplace=True)\n",
    "\n",
    "fig = px.bar(fran_rost, \n",
    "             x=\"FranchiseCode\", \n",
    "             y=\"Regressed\", \n",
    "             color=\"Position\", \n",
    "             text='Name', \n",
    "             color_discrete_map={\n",
    "                \"RB\": \"#1033a6\", #blue #1033a6 #0c2987\n",
    "                \"TE\": \"#1295ad\", #teal #02687b #038097\n",
    "                \"WR\": \"#643fc1\", #purple #4f22bc #643fc1\n",
    "                \"QB\": \"#f5d000\"}, #gold #f5d000\n",
    "             category_orders={\n",
    "                 \"Position\": [\"RB\", \"QB\", \"WR\", \"TE\"]}\n",
    "            )\n",
    "fig.update_layout(barmode='stack', xaxis={'categoryorder':'total descending'})\n",
    "fig.show()"
   ]
  },
  {
   "cell_type": "code",
   "execution_count": 201,
   "metadata": {},
   "outputs": [
    {
     "data": {
      "text/html": [
       "<div>\n",
       "<style scoped>\n",
       "    .dataframe tbody tr th:only-of-type {\n",
       "        vertical-align: middle;\n",
       "    }\n",
       "\n",
       "    .dataframe tbody tr th {\n",
       "        vertical-align: top;\n",
       "    }\n",
       "\n",
       "    .dataframe thead th {\n",
       "        text-align: right;\n",
       "    }\n",
       "</style>\n",
       "<table border=\"1\" class=\"dataframe\">\n",
       "  <thead>\n",
       "    <tr style=\"text-align: right;\">\n",
       "      <th></th>\n",
       "      <th>PlayerID</th>\n",
       "      <th>Name</th>\n",
       "      <th>Position</th>\n",
       "      <th>Team</th>\n",
       "      <th>Franchise</th>\n",
       "      <th>Week</th>\n",
       "      <th>RosterStatus</th>\n",
       "      <th>FranchiseCode</th>\n",
       "      <th>SharkRank</th>\n",
       "      <th>ADP</th>\n",
       "      <th>Regressed</th>\n",
       "      <th>Date</th>\n",
       "    </tr>\n",
       "  </thead>\n",
       "  <tbody>\n",
       "    <tr>\n",
       "      <th>10</th>\n",
       "      <td>14056</td>\n",
       "      <td>Murray, Kyler</td>\n",
       "      <td>QB</td>\n",
       "      <td>ARI</td>\n",
       "      <td>0005</td>\n",
       "      <td>1</td>\n",
       "      <td>ROSTER</td>\n",
       "      <td>CRO</td>\n",
       "      <td>82</td>\n",
       "      <td>19.510000</td>\n",
       "      <td>163.463332</td>\n",
       "      <td>2022-05-03</td>\n",
       "    </tr>\n",
       "    <tr>\n",
       "      <th>24</th>\n",
       "      <td>13131</td>\n",
       "      <td>Mixon, Joe</td>\n",
       "      <td>RB</td>\n",
       "      <td>CIN</td>\n",
       "      <td>0005</td>\n",
       "      <td>1</td>\n",
       "      <td>ROSTER</td>\n",
       "      <td>CRO</td>\n",
       "      <td>12</td>\n",
       "      <td>28.559999</td>\n",
       "      <td>120.933331</td>\n",
       "      <td>2022-05-03</td>\n",
       "    </tr>\n",
       "    <tr>\n",
       "      <th>28</th>\n",
       "      <td>14071</td>\n",
       "      <td>Montgomery, David</td>\n",
       "      <td>RB</td>\n",
       "      <td>CHI</td>\n",
       "      <td>0005</td>\n",
       "      <td>1</td>\n",
       "      <td>ROSTER</td>\n",
       "      <td>CRO</td>\n",
       "      <td>15</td>\n",
       "      <td>54.889999</td>\n",
       "      <td>112.946666</td>\n",
       "      <td>2022-05-03</td>\n",
       "    </tr>\n",
       "    <tr>\n",
       "      <th>49</th>\n",
       "      <td>14073</td>\n",
       "      <td>Jacobs, Josh</td>\n",
       "      <td>RB</td>\n",
       "      <td>LVR</td>\n",
       "      <td>0005</td>\n",
       "      <td>1</td>\n",
       "      <td>ROSTER</td>\n",
       "      <td>CRO</td>\n",
       "      <td>26</td>\n",
       "      <td>56.650002</td>\n",
       "      <td>72.216666</td>\n",
       "      <td>2022-05-03</td>\n",
       "    </tr>\n",
       "    <tr>\n",
       "      <th>61</th>\n",
       "      <td>14974</td>\n",
       "      <td>Mooney, Darnell</td>\n",
       "      <td>WR</td>\n",
       "      <td>CHI</td>\n",
       "      <td>0005</td>\n",
       "      <td>1</td>\n",
       "      <td>ROSTER</td>\n",
       "      <td>CRO</td>\n",
       "      <td>53</td>\n",
       "      <td>84.389999</td>\n",
       "      <td>62.583333</td>\n",
       "      <td>2022-05-03</td>\n",
       "    </tr>\n",
       "    <tr>\n",
       "      <th>64</th>\n",
       "      <td>14143</td>\n",
       "      <td>Knox, Dawson</td>\n",
       "      <td>TE</td>\n",
       "      <td>BUF</td>\n",
       "      <td>0005</td>\n",
       "      <td>1</td>\n",
       "      <td>ROSTER</td>\n",
       "      <td>CRO</td>\n",
       "      <td>120</td>\n",
       "      <td>88.980003</td>\n",
       "      <td>59.833332</td>\n",
       "      <td>2022-05-03</td>\n",
       "    </tr>\n",
       "    <tr>\n",
       "      <th>66</th>\n",
       "      <td>13163</td>\n",
       "      <td>Godwin, Chris</td>\n",
       "      <td>WR</td>\n",
       "      <td>TBB</td>\n",
       "      <td>0005</td>\n",
       "      <td>1</td>\n",
       "      <td>ROSTER</td>\n",
       "      <td>CRO</td>\n",
       "      <td>55</td>\n",
       "      <td>54.709999</td>\n",
       "      <td>57.953332</td>\n",
       "      <td>2022-05-03</td>\n",
       "    </tr>\n",
       "    <tr>\n",
       "      <th>68</th>\n",
       "      <td>13672</td>\n",
       "      <td>Gesicki, Mike</td>\n",
       "      <td>TE</td>\n",
       "      <td>MIA</td>\n",
       "      <td>0005</td>\n",
       "      <td>1</td>\n",
       "      <td>ROSTER</td>\n",
       "      <td>CRO</td>\n",
       "      <td>121</td>\n",
       "      <td>89.940002</td>\n",
       "      <td>57.026666</td>\n",
       "      <td>2022-05-03</td>\n",
       "    </tr>\n",
       "    <tr>\n",
       "      <th>73</th>\n",
       "      <td>14783</td>\n",
       "      <td>Hurts, Jalen</td>\n",
       "      <td>QB</td>\n",
       "      <td>PHI</td>\n",
       "      <td>0005</td>\n",
       "      <td>1</td>\n",
       "      <td>ROSTER</td>\n",
       "      <td>CRO</td>\n",
       "      <td>161</td>\n",
       "      <td>40.369999</td>\n",
       "      <td>53.446667</td>\n",
       "      <td>2022-05-03</td>\n",
       "    </tr>\n",
       "    <tr>\n",
       "      <th>77</th>\n",
       "      <td>13635</td>\n",
       "      <td>Moore, D.J.</td>\n",
       "      <td>WR</td>\n",
       "      <td>CAR</td>\n",
       "      <td>0005</td>\n",
       "      <td>1</td>\n",
       "      <td>ROSTER</td>\n",
       "      <td>CRO</td>\n",
       "      <td>59</td>\n",
       "      <td>49.700001</td>\n",
       "      <td>49.133334</td>\n",
       "      <td>2022-05-03</td>\n",
       "    </tr>\n",
       "    <tr>\n",
       "      <th>88</th>\n",
       "      <td>13632</td>\n",
       "      <td>Lazard, Allen</td>\n",
       "      <td>WR</td>\n",
       "      <td>GBP</td>\n",
       "      <td>0005</td>\n",
       "      <td>1</td>\n",
       "      <td>ROSTER</td>\n",
       "      <td>CRO</td>\n",
       "      <td>66</td>\n",
       "      <td>121.849998</td>\n",
       "      <td>38.533334</td>\n",
       "      <td>2022-05-03</td>\n",
       "    </tr>\n",
       "  </tbody>\n",
       "</table>\n",
       "</div>"
      ],
      "text/plain": [
       "   PlayerID               Name Position Team Franchise Week RosterStatus  \\\n",
       "10    14056      Murray, Kyler       QB  ARI      0005    1       ROSTER   \n",
       "24    13131         Mixon, Joe       RB  CIN      0005    1       ROSTER   \n",
       "28    14071  Montgomery, David       RB  CHI      0005    1       ROSTER   \n",
       "49    14073       Jacobs, Josh       RB  LVR      0005    1       ROSTER   \n",
       "61    14974    Mooney, Darnell       WR  CHI      0005    1       ROSTER   \n",
       "64    14143       Knox, Dawson       TE  BUF      0005    1       ROSTER   \n",
       "66    13163      Godwin, Chris       WR  TBB      0005    1       ROSTER   \n",
       "68    13672      Gesicki, Mike       TE  MIA      0005    1       ROSTER   \n",
       "73    14783       Hurts, Jalen       QB  PHI      0005    1       ROSTER   \n",
       "77    13635        Moore, D.J.       WR  CAR      0005    1       ROSTER   \n",
       "88    13632      Lazard, Allen       WR  GBP      0005    1       ROSTER   \n",
       "\n",
       "   FranchiseCode  SharkRank         ADP   Regressed        Date  \n",
       "10           CRO         82   19.510000  163.463332  2022-05-03  \n",
       "24           CRO         12   28.559999  120.933331  2022-05-03  \n",
       "28           CRO         15   54.889999  112.946666  2022-05-03  \n",
       "49           CRO         26   56.650002   72.216666  2022-05-03  \n",
       "61           CRO         53   84.389999   62.583333  2022-05-03  \n",
       "64           CRO        120   88.980003   59.833332  2022-05-03  \n",
       "66           CRO         55   54.709999   57.953332  2022-05-03  \n",
       "68           CRO        121   89.940002   57.026666  2022-05-03  \n",
       "73           CRO        161   40.369999   53.446667  2022-05-03  \n",
       "77           CRO         59   49.700001   49.133334  2022-05-03  \n",
       "88           CRO         66  121.849998   38.533334  2022-05-03  "
      ]
     },
     "execution_count": 201,
     "metadata": {},
     "output_type": "execute_result"
    }
   ],
   "source": [
    "fran_rost[fran_rost['FranchiseCode']=='CRO']"
   ]
  },
  {
   "cell_type": "code",
   "execution_count": 110,
   "metadata": {
    "scrolled": true
   },
   "outputs": [
    {
     "data": {
      "text/html": [
       "<div>\n",
       "<style scoped>\n",
       "    .dataframe tbody tr th:only-of-type {\n",
       "        vertical-align: middle;\n",
       "    }\n",
       "\n",
       "    .dataframe tbody tr th {\n",
       "        vertical-align: top;\n",
       "    }\n",
       "\n",
       "    .dataframe thead th {\n",
       "        text-align: right;\n",
       "    }\n",
       "</style>\n",
       "<table border=\"1\" class=\"dataframe\">\n",
       "  <thead>\n",
       "    <tr style=\"text-align: right;\">\n",
       "      <th></th>\n",
       "      <th>PlayerID</th>\n",
       "      <th>Name</th>\n",
       "      <th>Position</th>\n",
       "      <th>Team</th>\n",
       "      <th>Franchise</th>\n",
       "      <th>Week</th>\n",
       "      <th>RosterStatus</th>\n",
       "      <th>FranchiseCode</th>\n",
       "      <th>SharkRank</th>\n",
       "      <th>ADP</th>\n",
       "      <th>Regressed</th>\n",
       "      <th>Date</th>\n",
       "    </tr>\n",
       "  </thead>\n",
       "  <tbody>\n",
       "    <tr>\n",
       "      <th>1928</th>\n",
       "      <td>13164</td>\n",
       "      <td>Kupp, Cooper</td>\n",
       "      <td>WR</td>\n",
       "      <td>LAR</td>\n",
       "      <td>0002</td>\n",
       "      <td>1</td>\n",
       "      <td>ROSTER</td>\n",
       "      <td>WFF</td>\n",
       "      <td>4</td>\n",
       "      <td>13.870000</td>\n",
       "      <td>185.579997</td>\n",
       "      <td>2022-05-02</td>\n",
       "    </tr>\n",
       "    <tr>\n",
       "      <th>1797</th>\n",
       "      <td>5848</td>\n",
       "      <td>Brady, Tom</td>\n",
       "      <td>QB</td>\n",
       "      <td>TBB</td>\n",
       "      <td>0002</td>\n",
       "      <td>1</td>\n",
       "      <td>ROSTER</td>\n",
       "      <td>WFF</td>\n",
       "      <td>73</td>\n",
       "      <td>58.619999</td>\n",
       "      <td>171.646664</td>\n",
       "      <td>2022-05-02</td>\n",
       "    </tr>\n",
       "    <tr>\n",
       "      <th>1931</th>\n",
       "      <td>14136</td>\n",
       "      <td>Samuel, Deebo</td>\n",
       "      <td>WR</td>\n",
       "      <td>SFO</td>\n",
       "      <td>0002</td>\n",
       "      <td>1</td>\n",
       "      <td>ROSTER</td>\n",
       "      <td>WFF</td>\n",
       "      <td>12</td>\n",
       "      <td>26.400000</td>\n",
       "      <td>136.586668</td>\n",
       "      <td>2022-05-02</td>\n",
       "    </tr>\n",
       "    <tr>\n",
       "      <th>1804</th>\n",
       "      <td>10700</td>\n",
       "      <td>Cousins, Kirk</td>\n",
       "      <td>QB</td>\n",
       "      <td>MIN</td>\n",
       "      <td>0002</td>\n",
       "      <td>1</td>\n",
       "      <td>ROSTER</td>\n",
       "      <td>WFF</td>\n",
       "      <td>127</td>\n",
       "      <td>63.889999</td>\n",
       "      <td>118.080001</td>\n",
       "      <td>2022-05-02</td>\n",
       "    </tr>\n",
       "    <tr>\n",
       "      <th>1851</th>\n",
       "      <td>15254</td>\n",
       "      <td>Harris, Najee</td>\n",
       "      <td>RB</td>\n",
       "      <td>PIT</td>\n",
       "      <td>0002</td>\n",
       "      <td>1</td>\n",
       "      <td>ROSTER</td>\n",
       "      <td>WFF</td>\n",
       "      <td>17</td>\n",
       "      <td>14.310000</td>\n",
       "      <td>93.793333</td>\n",
       "      <td>2022-05-02</td>\n",
       "    </tr>\n",
       "    <tr>\n",
       "      <th>2052</th>\n",
       "      <td>11247</td>\n",
       "      <td>Ertz, Zach</td>\n",
       "      <td>TE</td>\n",
       "      <td>ARI</td>\n",
       "      <td>0002</td>\n",
       "      <td>1</td>\n",
       "      <td>ROSTER</td>\n",
       "      <td>WFF</td>\n",
       "      <td>118</td>\n",
       "      <td>101.769997</td>\n",
       "      <td>59.833332</td>\n",
       "      <td>2022-05-02</td>\n",
       "    </tr>\n",
       "    <tr>\n",
       "      <th>1950</th>\n",
       "      <td>14102</td>\n",
       "      <td>Metcalf, DK</td>\n",
       "      <td>WR</td>\n",
       "      <td>SEA</td>\n",
       "      <td>0002</td>\n",
       "      <td>1</td>\n",
       "      <td>ROSTER</td>\n",
       "      <td>WFF</td>\n",
       "      <td>57</td>\n",
       "      <td>39.980000</td>\n",
       "      <td>51.483333</td>\n",
       "      <td>2022-05-02</td>\n",
       "    </tr>\n",
       "    <tr>\n",
       "      <th>1864</th>\n",
       "      <td>14075</td>\n",
       "      <td>Harris, Damien</td>\n",
       "      <td>RB</td>\n",
       "      <td>NEP</td>\n",
       "      <td>0002</td>\n",
       "      <td>1</td>\n",
       "      <td>ROSTER</td>\n",
       "      <td>WFF</td>\n",
       "      <td>49</td>\n",
       "      <td>95.559998</td>\n",
       "      <td>48.003336</td>\n",
       "      <td>2022-05-02</td>\n",
       "    </tr>\n",
       "    <tr>\n",
       "      <th>2122</th>\n",
       "      <td>0520</td>\n",
       "      <td>Commanders, Washington</td>\n",
       "      <td>Def</td>\n",
       "      <td>WAS</td>\n",
       "      <td>0002</td>\n",
       "      <td>1</td>\n",
       "      <td>ROSTER</td>\n",
       "      <td>WFF</td>\n",
       "      <td>763</td>\n",
       "      <td>184.380005</td>\n",
       "      <td>43.353330</td>\n",
       "      <td>2022-05-02</td>\n",
       "    </tr>\n",
       "    <tr>\n",
       "      <th>1961</th>\n",
       "      <td>14845</td>\n",
       "      <td>Davis, Gabriel</td>\n",
       "      <td>WR</td>\n",
       "      <td>BUF</td>\n",
       "      <td>0002</td>\n",
       "      <td>1</td>\n",
       "      <td>ROSTER</td>\n",
       "      <td>WFF</td>\n",
       "      <td>71</td>\n",
       "      <td>111.070000</td>\n",
       "      <td>30.103333</td>\n",
       "      <td>2022-05-02</td>\n",
       "    </tr>\n",
       "    <tr>\n",
       "      <th>1817</th>\n",
       "      <td>15237</td>\n",
       "      <td>Lawrence, Trevor</td>\n",
       "      <td>QB</td>\n",
       "      <td>JAC</td>\n",
       "      <td>0002</td>\n",
       "      <td>1</td>\n",
       "      <td>ROSTER</td>\n",
       "      <td>WFF</td>\n",
       "      <td>879</td>\n",
       "      <td>48.279999</td>\n",
       "      <td>29.506664</td>\n",
       "      <td>2022-05-02</td>\n",
       "    </tr>\n",
       "    <tr>\n",
       "      <th>1964</th>\n",
       "      <td>14835</td>\n",
       "      <td>Higgins, Tee</td>\n",
       "      <td>WR</td>\n",
       "      <td>CIN</td>\n",
       "      <td>0002</td>\n",
       "      <td>1</td>\n",
       "      <td>ROSTER</td>\n",
       "      <td>WFF</td>\n",
       "      <td>81</td>\n",
       "      <td>42.820000</td>\n",
       "      <td>28.576666</td>\n",
       "      <td>2022-05-02</td>\n",
       "    </tr>\n",
       "    <tr>\n",
       "      <th>1871</th>\n",
       "      <td>15258</td>\n",
       "      <td>Carter, Michael</td>\n",
       "      <td>RB</td>\n",
       "      <td>NYJ</td>\n",
       "      <td>0002</td>\n",
       "      <td>1</td>\n",
       "      <td>ROSTER</td>\n",
       "      <td>WFF</td>\n",
       "      <td>143</td>\n",
       "      <td>81.930000</td>\n",
       "      <td>25.993335</td>\n",
       "      <td>2022-05-02</td>\n",
       "    </tr>\n",
       "    <tr>\n",
       "      <th>2063</th>\n",
       "      <td>14141</td>\n",
       "      <td>Smith Jr., Irv</td>\n",
       "      <td>TE</td>\n",
       "      <td>MIN</td>\n",
       "      <td>0002</td>\n",
       "      <td>1</td>\n",
       "      <td>ROSTER</td>\n",
       "      <td>WFF</td>\n",
       "      <td>187</td>\n",
       "      <td>122.000000</td>\n",
       "      <td>25.890000</td>\n",
       "      <td>2022-05-02</td>\n",
       "    </tr>\n",
       "    <tr>\n",
       "      <th>1874</th>\n",
       "      <td>14085</td>\n",
       "      <td>Pollard, Tony</td>\n",
       "      <td>RB</td>\n",
       "      <td>DAL</td>\n",
       "      <td>0002</td>\n",
       "      <td>1</td>\n",
       "      <td>ROSTER</td>\n",
       "      <td>WFF</td>\n",
       "      <td>180</td>\n",
       "      <td>103.139999</td>\n",
       "      <td>20.646666</td>\n",
       "      <td>2022-05-02</td>\n",
       "    </tr>\n",
       "    <tr>\n",
       "      <th>1819</th>\n",
       "      <td>12610</td>\n",
       "      <td>Wentz, Carson</td>\n",
       "      <td>QB</td>\n",
       "      <td>WAS</td>\n",
       "      <td>0002</td>\n",
       "      <td>1</td>\n",
       "      <td>ROSTER</td>\n",
       "      <td>WFF</td>\n",
       "      <td>921</td>\n",
       "      <td>107.320000</td>\n",
       "      <td>16.359999</td>\n",
       "      <td>2022-05-02</td>\n",
       "    </tr>\n",
       "    <tr>\n",
       "      <th>2068</th>\n",
       "      <td>13189</td>\n",
       "      <td>Engram, Evan</td>\n",
       "      <td>TE</td>\n",
       "      <td>JAC</td>\n",
       "      <td>0002</td>\n",
       "      <td>1</td>\n",
       "      <td>ROSTER</td>\n",
       "      <td>WFF</td>\n",
       "      <td>291</td>\n",
       "      <td>140.160004</td>\n",
       "      <td>7.003333</td>\n",
       "      <td>2022-05-02</td>\n",
       "    </tr>\n",
       "    <tr>\n",
       "      <th>1885</th>\n",
       "      <td>13871</td>\n",
       "      <td>Hilliard, Dontrell</td>\n",
       "      <td>RB</td>\n",
       "      <td>TEN</td>\n",
       "      <td>0002</td>\n",
       "      <td>1</td>\n",
       "      <td>ROSTER</td>\n",
       "      <td>WFF</td>\n",
       "      <td>288</td>\n",
       "      <td>243.690002</td>\n",
       "      <td>2.559999</td>\n",
       "      <td>2022-05-02</td>\n",
       "    </tr>\n",
       "    <tr>\n",
       "      <th>1890</th>\n",
       "      <td>13814</td>\n",
       "      <td>Scott, Boston</td>\n",
       "      <td>RB</td>\n",
       "      <td>PHI</td>\n",
       "      <td>0002</td>\n",
       "      <td>1</td>\n",
       "      <td>ROSTER</td>\n",
       "      <td>WFF</td>\n",
       "      <td>300</td>\n",
       "      <td>193.169998</td>\n",
       "      <td>-6.783335</td>\n",
       "      <td>2022-05-02</td>\n",
       "    </tr>\n",
       "    <tr>\n",
       "      <th>1991</th>\n",
       "      <td>14977</td>\n",
       "      <td>Osborn, K.J.</td>\n",
       "      <td>WR</td>\n",
       "      <td>MIN</td>\n",
       "      <td>0002</td>\n",
       "      <td>1</td>\n",
       "      <td>ROSTER</td>\n",
       "      <td>WFF</td>\n",
       "      <td>267</td>\n",
       "      <td>194.460007</td>\n",
       "      <td>-11.006667</td>\n",
       "      <td>2022-05-02</td>\n",
       "    </tr>\n",
       "    <tr>\n",
       "      <th>2016</th>\n",
       "      <td>13793</td>\n",
       "      <td>Valdes-Scantling, Marquez</td>\n",
       "      <td>WR</td>\n",
       "      <td>KCC</td>\n",
       "      <td>0002</td>\n",
       "      <td>1</td>\n",
       "      <td>ROSTER</td>\n",
       "      <td>WFF</td>\n",
       "      <td>729</td>\n",
       "      <td>173.029999</td>\n",
       "      <td>-39.556667</td>\n",
       "      <td>2022-05-02</td>\n",
       "    </tr>\n",
       "    <tr>\n",
       "      <th>1927</th>\n",
       "      <td>14808</td>\n",
       "      <td>Evans, Darrynton</td>\n",
       "      <td>RB</td>\n",
       "      <td>CHI</td>\n",
       "      <td>0002</td>\n",
       "      <td>1</td>\n",
       "      <td>ROSTER</td>\n",
       "      <td>WFF</td>\n",
       "      <td>1283</td>\n",
       "      <td>283.140015</td>\n",
       "      <td>-68.409999</td>\n",
       "      <td>2022-05-02</td>\n",
       "    </tr>\n",
       "  </tbody>\n",
       "</table>\n",
       "</div>"
      ],
      "text/plain": [
       "     PlayerID                       Name Position Team Franchise Week  \\\n",
       "1928    13164               Kupp, Cooper       WR  LAR      0002    1   \n",
       "1797     5848                 Brady, Tom       QB  TBB      0002    1   \n",
       "1931    14136              Samuel, Deebo       WR  SFO      0002    1   \n",
       "1804    10700              Cousins, Kirk       QB  MIN      0002    1   \n",
       "1851    15254              Harris, Najee       RB  PIT      0002    1   \n",
       "2052    11247                 Ertz, Zach       TE  ARI      0002    1   \n",
       "1950    14102                Metcalf, DK       WR  SEA      0002    1   \n",
       "1864    14075             Harris, Damien       RB  NEP      0002    1   \n",
       "2122     0520     Commanders, Washington      Def  WAS      0002    1   \n",
       "1961    14845             Davis, Gabriel       WR  BUF      0002    1   \n",
       "1817    15237           Lawrence, Trevor       QB  JAC      0002    1   \n",
       "1964    14835               Higgins, Tee       WR  CIN      0002    1   \n",
       "1871    15258            Carter, Michael       RB  NYJ      0002    1   \n",
       "2063    14141             Smith Jr., Irv       TE  MIN      0002    1   \n",
       "1874    14085              Pollard, Tony       RB  DAL      0002    1   \n",
       "1819    12610              Wentz, Carson       QB  WAS      0002    1   \n",
       "2068    13189               Engram, Evan       TE  JAC      0002    1   \n",
       "1885    13871         Hilliard, Dontrell       RB  TEN      0002    1   \n",
       "1890    13814              Scott, Boston       RB  PHI      0002    1   \n",
       "1991    14977               Osborn, K.J.       WR  MIN      0002    1   \n",
       "2016    13793  Valdes-Scantling, Marquez       WR  KCC      0002    1   \n",
       "1927    14808           Evans, Darrynton       RB  CHI      0002    1   \n",
       "\n",
       "     RosterStatus FranchiseCode  SharkRank         ADP   Regressed        Date  \n",
       "1928       ROSTER           WFF          4   13.870000  185.579997  2022-05-02  \n",
       "1797       ROSTER           WFF         73   58.619999  171.646664  2022-05-02  \n",
       "1931       ROSTER           WFF         12   26.400000  136.586668  2022-05-02  \n",
       "1804       ROSTER           WFF        127   63.889999  118.080001  2022-05-02  \n",
       "1851       ROSTER           WFF         17   14.310000   93.793333  2022-05-02  \n",
       "2052       ROSTER           WFF        118  101.769997   59.833332  2022-05-02  \n",
       "1950       ROSTER           WFF         57   39.980000   51.483333  2022-05-02  \n",
       "1864       ROSTER           WFF         49   95.559998   48.003336  2022-05-02  \n",
       "2122       ROSTER           WFF        763  184.380005   43.353330  2022-05-02  \n",
       "1961       ROSTER           WFF         71  111.070000   30.103333  2022-05-02  \n",
       "1817       ROSTER           WFF        879   48.279999   29.506664  2022-05-02  \n",
       "1964       ROSTER           WFF         81   42.820000   28.576666  2022-05-02  \n",
       "1871       ROSTER           WFF        143   81.930000   25.993335  2022-05-02  \n",
       "2063       ROSTER           WFF        187  122.000000   25.890000  2022-05-02  \n",
       "1874       ROSTER           WFF        180  103.139999   20.646666  2022-05-02  \n",
       "1819       ROSTER           WFF        921  107.320000   16.359999  2022-05-02  \n",
       "2068       ROSTER           WFF        291  140.160004    7.003333  2022-05-02  \n",
       "1885       ROSTER           WFF        288  243.690002    2.559999  2022-05-02  \n",
       "1890       ROSTER           WFF        300  193.169998   -6.783335  2022-05-02  \n",
       "1991       ROSTER           WFF        267  194.460007  -11.006667  2022-05-02  \n",
       "2016       ROSTER           WFF        729  173.029999  -39.556667  2022-05-02  \n",
       "1927       ROSTER           WFF       1283  283.140015  -68.409999  2022-05-02  "
      ]
     },
     "execution_count": 110,
     "metadata": {},
     "output_type": "execute_result"
    }
   ],
   "source": [
    "today[today['FranchiseCode']=='WFF']"
   ]
  },
  {
   "cell_type": "code",
   "execution_count": null,
   "metadata": {},
   "outputs": [],
   "source": []
  }
 ],
 "metadata": {
  "kernelspec": {
   "display_name": "PythonData",
   "language": "python",
   "name": "pythondata"
  },
  "language_info": {
   "codemirror_mode": {
    "name": "ipython",
    "version": 3
   },
   "file_extension": ".py",
   "mimetype": "text/x-python",
   "name": "python",
   "nbconvert_exporter": "python",
   "pygments_lexer": "ipython3",
   "version": "3.7.9"
  }
 },
 "nbformat": 4,
 "nbformat_minor": 4
}
