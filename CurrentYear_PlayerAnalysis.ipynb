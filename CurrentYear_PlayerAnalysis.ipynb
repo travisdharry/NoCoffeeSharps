{
 "cells": [
  {
   "cell_type": "markdown",
   "metadata": {},
   "source": [
    "## Find each Franchise's rostered players"
   ]
  },
  {
   "cell_type": "code",
   "execution_count": 1,
   "metadata": {},
   "outputs": [],
   "source": [
    "# username and passwords\n",
    "league_id = \"53906\""
   ]
  },
  {
   "cell_type": "code",
   "execution_count": 2,
   "metadata": {},
   "outputs": [],
   "source": [
    "# import dependencies\n",
    "import pandas as pd\n",
    "from bs4 import BeautifulSoup\n",
    "import requests\n",
    "from datetime import date\n",
    "import plotly.express as px\n",
    "import plotly.graph_objects as go"
   ]
  },
  {
   "cell_type": "markdown",
   "metadata": {},
   "source": [
    "## Pull Franchise data from MyFantasyLeague"
   ]
  },
  {
   "cell_type": "code",
   "execution_count": 3,
   "metadata": {},
   "outputs": [
    {
     "data": {
      "text/html": [
       "<div>\n",
       "<style scoped>\n",
       "    .dataframe tbody tr th:only-of-type {\n",
       "        vertical-align: middle;\n",
       "    }\n",
       "\n",
       "    .dataframe tbody tr th {\n",
       "        vertical-align: top;\n",
       "    }\n",
       "\n",
       "    .dataframe thead th {\n",
       "        text-align: right;\n",
       "    }\n",
       "</style>\n",
       "<table border=\"1\" class=\"dataframe\">\n",
       "  <thead>\n",
       "    <tr style=\"text-align: right;\">\n",
       "      <th></th>\n",
       "      <th>FranchiseID</th>\n",
       "      <th>FranchiseName</th>\n",
       "    </tr>\n",
       "  </thead>\n",
       "  <tbody>\n",
       "    <tr>\n",
       "      <th>0</th>\n",
       "      <td>0001</td>\n",
       "      <td>Providence Monastic Spirits</td>\n",
       "    </tr>\n",
       "    <tr>\n",
       "      <th>1</th>\n",
       "      <td>0002</td>\n",
       "      <td>Washington Fantasy Football Team</td>\n",
       "    </tr>\n",
       "    <tr>\n",
       "      <th>2</th>\n",
       "      <td>0003</td>\n",
       "      <td>Verdansk Vaqueros FFC</td>\n",
       "    </tr>\n",
       "    <tr>\n",
       "      <th>3</th>\n",
       "      <td>0004</td>\n",
       "      <td>Down with the Sickness unto Death</td>\n",
       "    </tr>\n",
       "    <tr>\n",
       "      <th>4</th>\n",
       "      <td>0005</td>\n",
       "      <td>Crocodilopolis Body Snatchers</td>\n",
       "    </tr>\n",
       "    <tr>\n",
       "      <th>5</th>\n",
       "      <td>0006</td>\n",
       "      <td>O'Henry's Stiffies</td>\n",
       "    </tr>\n",
       "    <tr>\n",
       "      <th>6</th>\n",
       "      <td>0007</td>\n",
       "      <td>Comeback Kings</td>\n",
       "    </tr>\n",
       "    <tr>\n",
       "      <th>7</th>\n",
       "      <td>0008</td>\n",
       "      <td>WHAM! BAM! Thank You CAM!</td>\n",
       "    </tr>\n",
       "    <tr>\n",
       "      <th>8</th>\n",
       "      <td>0009</td>\n",
       "      <td>Pretty Big Wieners</td>\n",
       "    </tr>\n",
       "    <tr>\n",
       "      <th>9</th>\n",
       "      <td>0010</td>\n",
       "      <td>Saskatoon Squatches</td>\n",
       "    </tr>\n",
       "    <tr>\n",
       "      <th>10</th>\n",
       "      <td>0011</td>\n",
       "      <td>Gus The Bus</td>\n",
       "    </tr>\n",
       "    <tr>\n",
       "      <th>11</th>\n",
       "      <td>0012</td>\n",
       "      <td>IDK much about soccer</td>\n",
       "    </tr>\n",
       "    <tr>\n",
       "      <th>12</th>\n",
       "      <td>FA</td>\n",
       "      <td>Free Agent</td>\n",
       "    </tr>\n",
       "  </tbody>\n",
       "</table>\n",
       "</div>"
      ],
      "text/plain": [
       "   FranchiseID                      FranchiseName\n",
       "0         0001        Providence Monastic Spirits\n",
       "1         0002   Washington Fantasy Football Team\n",
       "2         0003              Verdansk Vaqueros FFC\n",
       "3         0004  Down with the Sickness unto Death\n",
       "4         0005      Crocodilopolis Body Snatchers\n",
       "5         0006                 O'Henry's Stiffies\n",
       "6         0007                     Comeback Kings\n",
       "7         0008          WHAM! BAM! Thank You CAM!\n",
       "8         0009                 Pretty Big Wieners\n",
       "9         0010                Saskatoon Squatches\n",
       "10        0011                        Gus The Bus\n",
       "11        0012             IDK much about soccer \n",
       "12          FA                         Free Agent"
      ]
     },
     "execution_count": 3,
     "metadata": {},
     "output_type": "execute_result"
    }
   ],
   "source": [
    "# Get all league data\n",
    "urlString = \"https://www54.myfantasyleague.com/2022/export?TYPE=league&L=53906\"\n",
    "response = requests.get(urlString)\n",
    "soup = BeautifulSoup(response.content,'xml')\n",
    "\n",
    "data = []\n",
    "franchises = soup.find_all('franchise')\n",
    "for i in range(len(franchises)):\n",
    "    rows = [franchises[i].get(\"id\"), franchises[i].get(\"name\")]\n",
    "    data.append(rows)\n",
    "franchise_df = pd.DataFrame(data)\n",
    "franchise_df.columns=['FranchiseID','FranchiseName']\n",
    "franchise_df = franchise_df.append({\"FranchiseID\":\"FA\", \"FranchiseName\":\"Free Agent\"}, ignore_index=True)\n",
    "franchise_df"
   ]
  },
  {
   "cell_type": "markdown",
   "metadata": {},
   "source": [
    "## Pull player data from MyFantasyLeague"
   ]
  },
  {
   "cell_type": "code",
   "execution_count": 4,
   "metadata": {},
   "outputs": [],
   "source": [
    "# Get all players' name, team name, position\n",
    "urlString = \"https://api.myfantasyleague.com/2022/export?TYPE=players\"\n",
    "response = requests.get(urlString)\n",
    "soup = BeautifulSoup(response.content,'xml')\n",
    "\n",
    "data = []\n",
    "players = soup.find_all('player')\n",
    "for i in range(len(players)):\n",
    "    rows = [players[i].get(\"id\"), players[i].get(\"name\"), players[i].get(\"position\"), players[i].get(\"team\")]\n",
    "    data.append(rows)\n",
    "player_df = pd.DataFrame(data)\n",
    "player_df.columns=['PlayerID','Name', 'Position', 'Team']\n"
   ]
  },
  {
   "cell_type": "code",
   "execution_count": 5,
   "metadata": {},
   "outputs": [],
   "source": [
    "# Get franchise rosters\n",
    "urlString = \"https://www54.myfantasyleague.com/2022/export?TYPE=rosters&L=53906\"\n",
    "response = requests.get(urlString)\n",
    "soup = BeautifulSoup(response.content,'xml')\n",
    "\n",
    "data = []\n",
    "franchises = soup.find_all('franchise')\n",
    "for i in range(0,len(franchises)):\n",
    "    current_franchise = franchises[i].find_all('player')\n",
    "    for j in range(0,len(current_franchise)):\n",
    "        rows = [franchises[i].get(\"id\"), franchises[i].get(\"week\"), current_franchise[j].get(\"id\"), current_franchise[j].get(\"status\")]\n",
    "        data.append(rows)\n",
    "rosters_df = pd.DataFrame(data)\n",
    "\n",
    "# Get Free Agents\n",
    "urlString = \"https://www54.myfantasyleague.com/2022/export?TYPE=freeAgents&L=53906\"\n",
    "response = requests.get(urlString)\n",
    "soup = BeautifulSoup(response.content,'xml')\n",
    "\n",
    "data = []\n",
    "freeAgents = soup.find_all('player')\n",
    "for i in range(len(freeAgents)):\n",
    "    rows = [\"FA\", \"\", freeAgents[i].get(\"id\"), \"Free Agent\"]\n",
    "    data.append(rows)\n",
    "fa_df = pd.DataFrame(data)\n",
    "rosters_df = rosters_df.append(fa_df)\n",
    "rosters_df.columns=['FranchiseID','Week','PlayerID','RosterStatus']\n",
    "\n"
   ]
  },
  {
   "cell_type": "code",
   "execution_count": 6,
   "metadata": {},
   "outputs": [],
   "source": [
    "# Get Shark Ranks\n",
    "urlString = \"https://api.myfantasyleague.com/2022/export?TYPE=playerRanks\"\n",
    "response = requests.get(urlString)\n",
    "soup = BeautifulSoup(response.content,'xml')\n",
    "\n",
    "data = []\n",
    "sharkRanks = soup.find_all('player')\n",
    "for i in range(len(sharkRanks)):\n",
    "    rows = [sharkRanks[i].get(\"id\"), sharkRanks[i].get(\"rank\")]\n",
    "    data.append(rows)\n",
    "shark_df = pd.DataFrame(data)\n",
    "shark_df.columns=['PlayerID','SharkRank']\n",
    "shark_df['SharkRank'] = shark_df['SharkRank'].astype('int32')\n"
   ]
  },
  {
   "cell_type": "code",
   "execution_count": 7,
   "metadata": {},
   "outputs": [],
   "source": [
    "# Get adp\n",
    "urlString = \"https://api.myfantasyleague.com/2022/export?TYPE=adp\"\n",
    "response = requests.get(urlString)\n",
    "soup = BeautifulSoup(response.content,'xml')\n",
    "\n",
    "data = []\n",
    "players = soup.find_all('player')\n",
    "for i in range(len(players)):\n",
    "    rows = [players[i].get(\"id\"), players[i].get(\"averagePick\")]\n",
    "    data.append(rows)\n",
    "adp_df = pd.DataFrame(data)\n",
    "adp_df.columns=['PlayerID','ADP']\n",
    "adp_df['ADP'] = adp_df['ADP'].astype('float32')\n",
    "\n"
   ]
  },
  {
   "cell_type": "code",
   "execution_count": 8,
   "metadata": {},
   "outputs": [],
   "source": [
    "# Merge all dfs\n",
    "complete = player_df.merge(rosters_df, on='PlayerID', how='left').merge(franchise_df[['FranchiseID', 'FranchiseName']], on='FranchiseID', how='left').merge(shark_df, on='PlayerID', how='left').merge(adp_df, on='PlayerID', how='left')\n",
    "complete['FranchiseID'].fillna(\"FA\", inplace=True)\n",
    "complete['FranchiseName'].fillna(\"Free Agent\", inplace=True)\n",
    "complete['RosterStatus'].fillna(\"Free Agent\", inplace=True)\n",
    "complete['SharkRank'].fillna(3000, inplace=True)\n",
    "complete['ADP'].fillna(3000, inplace=True)\n",
    "complete = complete.sort_values(by=['SharkRank'])\n",
    "complete.reset_index(inplace=True, drop=True)"
   ]
  },
  {
   "cell_type": "code",
   "execution_count": 9,
   "metadata": {},
   "outputs": [],
   "source": [
    "qbs_2022 = complete[complete['Position'] == \"QB\"]\n",
    "qbs_2022.reset_index(inplace=True, drop=True)\n",
    "rbs_2022 = complete[complete['Position'] == \"RB\"]\n",
    "rbs_2022.reset_index(inplace=True, drop=True)\n",
    "wrs_2022 = complete[complete['Position'] == \"WR\"]\n",
    "wrs_2022.reset_index(inplace=True, drop=True)\n",
    "tes_2022 = complete[complete['Position'] == \"TE\"]\n",
    "tes_2022.reset_index(inplace=True, drop=True)\n",
    "pks_2022 = complete[complete['Position'] == \"PK\"]\n",
    "pks_2022.reset_index(inplace=True, drop=True)\n",
    "defs_2022 = complete[complete['Position'] == \"Def\"]\n",
    "defs_2022.reset_index(inplace=True, drop=True)"
   ]
  },
  {
   "cell_type": "markdown",
   "metadata": {},
   "source": [
    "## Import standard relative values"
   ]
  },
  {
   "cell_type": "code",
   "execution_count": 10,
   "metadata": {},
   "outputs": [],
   "source": [
    "qbs = pd.read_excel(\"data/RelativeValues.xlsx\", sheet_name=\"QB\")\n",
    "rbs = pd.read_excel(\"data/RelativeValues.xlsx\", sheet_name=\"RB\")\n",
    "wrs = pd.read_excel(\"data/RelativeValues.xlsx\", sheet_name=\"WR\")\n",
    "tes = pd.read_excel(\"data/RelativeValues.xlsx\", sheet_name=\"TE\")\n",
    "pks = pd.read_excel(\"data/RelativeValues.xlsx\", sheet_name=\"PK\")\n",
    "defs = pd.read_excel(\"data/RelativeValues.xlsx\", sheet_name=\"DEF\")\n",
    "\n",
    "qbs = qbs[['Projection_Relative', \"Projection_Absolute\"]]\n",
    "rbs = rbs[['Projection_Relative', \"Projection_Absolute\"]]\n",
    "wrs = wrs[['Projection_Relative', \"Projection_Absolute\"]]\n",
    "tes = tes[['Projection_Relative', \"Projection_Absolute\"]]\n",
    "pks = pks[['Projection_Relative', \"Projection_Absolute\"]]\n",
    "defs = defs[['Projection_Relative', \"Projection_Absolute\"]]\n"
   ]
  },
  {
   "cell_type": "code",
   "execution_count": 11,
   "metadata": {},
   "outputs": [],
   "source": [
    "# Merge dfs\n",
    "qbs_2022 = pd.merge(qbs_2022, qbs, how=\"left\", left_index=True, right_index=True)\n",
    "rbs_2022 = pd.merge(rbs_2022, rbs, how=\"left\", left_index=True, right_index=True)\n",
    "wrs_2022 = pd.merge(wrs_2022, wrs, how=\"left\", left_index=True, right_index=True)\n",
    "tes_2022 = pd.merge(tes_2022, tes, how=\"left\", left_index=True, right_index=True)\n",
    "pks_2022 = pd.merge(pks_2022, pks, how=\"left\", left_index=True, right_index=True)\n",
    "defs_2022 = pd.merge(defs_2022, defs, how=\"left\", left_index=True, right_index=True)\n",
    "analyzed = pd.concat([qbs_2022, rbs_2022, wrs_2022, tes_2022, pks_2022, defs_2022])\n"
   ]
  },
  {
   "cell_type": "code",
   "execution_count": 12,
   "metadata": {},
   "outputs": [
    {
     "data": {
      "text/html": [
       "<div>\n",
       "<style scoped>\n",
       "    .dataframe tbody tr th:only-of-type {\n",
       "        vertical-align: middle;\n",
       "    }\n",
       "\n",
       "    .dataframe tbody tr th {\n",
       "        vertical-align: top;\n",
       "    }\n",
       "\n",
       "    .dataframe thead th {\n",
       "        text-align: right;\n",
       "    }\n",
       "</style>\n",
       "<table border=\"1\" class=\"dataframe\">\n",
       "  <thead>\n",
       "    <tr style=\"text-align: right;\">\n",
       "      <th></th>\n",
       "      <th>SharkRank</th>\n",
       "      <th>ADP</th>\n",
       "      <th>Projection_Relative</th>\n",
       "      <th>Projection_Absolute</th>\n",
       "    </tr>\n",
       "    <tr>\n",
       "      <th>FranchiseName</th>\n",
       "      <th></th>\n",
       "      <th></th>\n",
       "      <th></th>\n",
       "      <th></th>\n",
       "    </tr>\n",
       "  </thead>\n",
       "  <tbody>\n",
       "    <tr>\n",
       "      <th>Pretty Big Wieners</th>\n",
       "      <td>14731.0</td>\n",
       "      <td>2.023412e+04</td>\n",
       "      <td>776.270002</td>\n",
       "      <td>4076.970002</td>\n",
       "    </tr>\n",
       "    <tr>\n",
       "      <th>Washington Fantasy Football Team</th>\n",
       "      <td>25252.0</td>\n",
       "      <td>2.633182e+04</td>\n",
       "      <td>739.753322</td>\n",
       "      <td>4039.753322</td>\n",
       "    </tr>\n",
       "    <tr>\n",
       "      <th>Saskatoon Squatches</th>\n",
       "      <td>22357.0</td>\n",
       "      <td>2.032886e+04</td>\n",
       "      <td>674.503327</td>\n",
       "      <td>4024.503327</td>\n",
       "    </tr>\n",
       "    <tr>\n",
       "      <th>WHAM! BAM! Thank You CAM!</th>\n",
       "      <td>16792.0</td>\n",
       "      <td>1.459053e+04</td>\n",
       "      <td>582.796655</td>\n",
       "      <td>3501.196655</td>\n",
       "    </tr>\n",
       "    <tr>\n",
       "      <th>Comeback Kings</th>\n",
       "      <td>27413.0</td>\n",
       "      <td>3.249910e+04</td>\n",
       "      <td>557.773327</td>\n",
       "      <td>3712.673327</td>\n",
       "    </tr>\n",
       "    <tr>\n",
       "      <th>Crocodilopolis Body Snatchers</th>\n",
       "      <td>19252.0</td>\n",
       "      <td>2.099540e+04</td>\n",
       "      <td>556.736661</td>\n",
       "      <td>4088.736661</td>\n",
       "    </tr>\n",
       "    <tr>\n",
       "      <th>Verdansk Vaqueros FFC</th>\n",
       "      <td>24088.0</td>\n",
       "      <td>3.504817e+04</td>\n",
       "      <td>313.726668</td>\n",
       "      <td>3909.626668</td>\n",
       "    </tr>\n",
       "    <tr>\n",
       "      <th>Down with the Sickness unto Death</th>\n",
       "      <td>21273.0</td>\n",
       "      <td>2.635170e+04</td>\n",
       "      <td>210.029988</td>\n",
       "      <td>3504.029988</td>\n",
       "    </tr>\n",
       "    <tr>\n",
       "      <th>O'Henry's Stiffies</th>\n",
       "      <td>26517.0</td>\n",
       "      <td>2.415308e+04</td>\n",
       "      <td>197.703325</td>\n",
       "      <td>3656.703325</td>\n",
       "    </tr>\n",
       "    <tr>\n",
       "      <th>Gus The Bus</th>\n",
       "      <td>22433.0</td>\n",
       "      <td>2.387848e+04</td>\n",
       "      <td>129.526658</td>\n",
       "      <td>3492.926658</td>\n",
       "    </tr>\n",
       "    <tr>\n",
       "      <th>IDK much about soccer</th>\n",
       "      <td>26597.0</td>\n",
       "      <td>3.252592e+04</td>\n",
       "      <td>30.266665</td>\n",
       "      <td>3487.266665</td>\n",
       "    </tr>\n",
       "    <tr>\n",
       "      <th>Providence Monastic Spirits</th>\n",
       "      <td>22446.0</td>\n",
       "      <td>1.493352e+04</td>\n",
       "      <td>-47.563333</td>\n",
       "      <td>3694.836667</td>\n",
       "    </tr>\n",
       "    <tr>\n",
       "      <th>Free Agent</th>\n",
       "      <td>1584257.0</td>\n",
       "      <td>2.014839e+06</td>\n",
       "      <td>-32311.193341</td>\n",
       "      <td>10353.506659</td>\n",
       "    </tr>\n",
       "  </tbody>\n",
       "</table>\n",
       "</div>"
      ],
      "text/plain": [
       "                                   SharkRank           ADP  \\\n",
       "FranchiseName                                                \n",
       "Pretty Big Wieners                   14731.0  2.023412e+04   \n",
       "Washington Fantasy Football Team     25252.0  2.633182e+04   \n",
       "Saskatoon Squatches                  22357.0  2.032886e+04   \n",
       "WHAM! BAM! Thank You CAM!            16792.0  1.459053e+04   \n",
       "Comeback Kings                       27413.0  3.249910e+04   \n",
       "Crocodilopolis Body Snatchers        19252.0  2.099540e+04   \n",
       "Verdansk Vaqueros FFC                24088.0  3.504817e+04   \n",
       "Down with the Sickness unto Death    21273.0  2.635170e+04   \n",
       "O'Henry's Stiffies                   26517.0  2.415308e+04   \n",
       "Gus The Bus                          22433.0  2.387848e+04   \n",
       "IDK much about soccer                26597.0  3.252592e+04   \n",
       "Providence Monastic Spirits          22446.0  1.493352e+04   \n",
       "Free Agent                         1584257.0  2.014839e+06   \n",
       "\n",
       "                                   Projection_Relative  Projection_Absolute  \n",
       "FranchiseName                                                                \n",
       "Pretty Big Wieners                          776.270002          4076.970002  \n",
       "Washington Fantasy Football Team            739.753322          4039.753322  \n",
       "Saskatoon Squatches                         674.503327          4024.503327  \n",
       "WHAM! BAM! Thank You CAM!                   582.796655          3501.196655  \n",
       "Comeback Kings                              557.773327          3712.673327  \n",
       "Crocodilopolis Body Snatchers               556.736661          4088.736661  \n",
       "Verdansk Vaqueros FFC                       313.726668          3909.626668  \n",
       "Down with the Sickness unto Death           210.029988          3504.029988  \n",
       "O'Henry's Stiffies                          197.703325          3656.703325  \n",
       "Gus The Bus                                 129.526658          3492.926658  \n",
       "IDK much about soccer                        30.266665          3487.266665  \n",
       "Providence Monastic Spirits                 -47.563333          3694.836667  \n",
       "Free Agent                               -32311.193341         10353.506659  "
      ]
     },
     "execution_count": 12,
     "metadata": {},
     "output_type": "execute_result"
    }
   ],
   "source": [
    "analyzed.groupby('FranchiseName').sum().sort_values(by='Projection_Relative', ascending=False)"
   ]
  },
  {
   "cell_type": "code",
   "execution_count": 13,
   "metadata": {},
   "outputs": [],
   "source": [
    "analyzed['Date'] = date.today()\n",
    "priorWeeks = pd.read_csv(\"data/2022Values.csv\", index_col=0)\n",
    "priorWeeks['Date'] = pd.to_datetime(priorWeeks['Date'])\n",
    "result = pd.concat([priorWeeks, analyzed], axis=0, ignore_index=True)\n",
    "#result.to_csv(\"2022Values.csv\")"
   ]
  },
  {
   "cell_type": "markdown",
   "metadata": {},
   "source": [
    "## Roster-builder"
   ]
  },
  {
   "cell_type": "code",
   "execution_count": 14,
   "metadata": {},
   "outputs": [],
   "source": [
    "today = result[result['Date'] == date.today()].sort_values(by='Projection_Relative', ascending=False, ignore_index=True)"
   ]
  },
  {
   "cell_type": "code",
   "execution_count": 15,
   "metadata": {},
   "outputs": [],
   "source": [
    "qbs_rostered = today[today['Position'] == \"QB\"]\n",
    "qbs_rostered.reset_index(inplace=True, drop=True)\n",
    "rbs_rostered = today[today['Position'] == \"RB\"]\n",
    "rbs_rostered.reset_index(inplace=True, drop=True)\n",
    "wrs_rostered = today[today['Position'] == \"WR\"]\n",
    "wrs_rostered.reset_index(inplace=True, drop=True)\n",
    "tes_rostered = today[today['Position'] == \"TE\"]\n",
    "tes_rostered.reset_index(inplace=True, drop=True)"
   ]
  },
  {
   "cell_type": "code",
   "execution_count": 16,
   "metadata": {},
   "outputs": [],
   "source": [
    "qbs_top = qbs_rostered.sort_values(by='Projection_Relative', ascending=False, ignore_index=True).groupby('FranchiseName').head(1)\n",
    "rbs_top = rbs_rostered.sort_values(by='Projection_Relative', ascending=False, ignore_index=True).groupby('FranchiseName').head(2)\n",
    "wrs_top = wrs_rostered.sort_values(by='Projection_Relative', ascending=False, ignore_index=True).groupby('FranchiseName').head(3)\n",
    "tes_top = tes_rostered.sort_values(by='Projection_Relative', ascending=False, ignore_index=True).groupby('FranchiseName').head(2)\n",
    "\n",
    "qbs_remainder = qbs_rostered[~qbs_rostered['PlayerID'].isin(qbs_top['PlayerID'])].groupby('FranchiseName').head(1)\n",
    "rbs_remainder = rbs_rostered[~rbs_rostered['PlayerID'].isin(rbs_top['PlayerID'])].groupby('FranchiseName').head(3)\n",
    "wrs_remainder = wrs_rostered[~wrs_rostered['PlayerID'].isin(wrs_top['PlayerID'])].groupby('FranchiseName').head(3)\n",
    "tes_remainder = tes_rostered[~tes_rostered['PlayerID'].isin(tes_top['PlayerID'])].groupby('FranchiseName').head(3)\n",
    "                                                         \n",
    "remainder = pd.concat([qbs_remainder, rbs_remainder, wrs_remainder, tes_remainder])\n",
    "                             \n",
    "top_remainders = remainder.sort_values(by='Projection_Absolute', ascending=False, ignore_index=True).groupby('FranchiseName').head(3)\n",
    "                             \n",
    "fran_rost = pd.concat([qbs_top, rbs_top, wrs_top, tes_top, top_remainders])\n",
    "fran_rost = fran_rost.sort_values(by='Projection_Relative', ascending=False, ignore_index=True)\n"
   ]
  },
  {
   "cell_type": "markdown",
   "metadata": {},
   "source": [
    "## Examine Data"
   ]
  },
  {
   "cell_type": "code",
   "execution_count": 17,
   "metadata": {},
   "outputs": [
    {
     "data": {
      "text/html": [
       "<div>\n",
       "<style scoped>\n",
       "    .dataframe tbody tr th:only-of-type {\n",
       "        vertical-align: middle;\n",
       "    }\n",
       "\n",
       "    .dataframe tbody tr th {\n",
       "        vertical-align: top;\n",
       "    }\n",
       "\n",
       "    .dataframe thead th {\n",
       "        text-align: right;\n",
       "    }\n",
       "</style>\n",
       "<table border=\"1\" class=\"dataframe\">\n",
       "  <thead>\n",
       "    <tr style=\"text-align: right;\">\n",
       "      <th></th>\n",
       "      <th>SharkRank</th>\n",
       "      <th>ADP</th>\n",
       "      <th>Regressed</th>\n",
       "      <th>Projection_Relative</th>\n",
       "      <th>Projection_Absolute</th>\n",
       "    </tr>\n",
       "    <tr>\n",
       "      <th>FranchiseName</th>\n",
       "      <th></th>\n",
       "      <th></th>\n",
       "      <th></th>\n",
       "      <th></th>\n",
       "      <th></th>\n",
       "    </tr>\n",
       "  </thead>\n",
       "  <tbody>\n",
       "    <tr>\n",
       "      <th>Washington Fantasy Football Team</th>\n",
       "      <td>842.0</td>\n",
       "      <td>661.139991</td>\n",
       "      <td>0.0</td>\n",
       "      <td>963.713328</td>\n",
       "      <td>2214.913328</td>\n",
       "    </tr>\n",
       "    <tr>\n",
       "      <th>Saskatoon Squatches</th>\n",
       "      <td>670.0</td>\n",
       "      <td>593.280004</td>\n",
       "      <td>0.0</td>\n",
       "      <td>949.956658</td>\n",
       "      <td>2201.156658</td>\n",
       "    </tr>\n",
       "    <tr>\n",
       "      <th>Verdansk Vaqueros FFC</th>\n",
       "      <td>1052.0</td>\n",
       "      <td>699.260006</td>\n",
       "      <td>0.0</td>\n",
       "      <td>889.796669</td>\n",
       "      <td>2148.396669</td>\n",
       "    </tr>\n",
       "    <tr>\n",
       "      <th>Crocodilopolis Body Snatchers</th>\n",
       "      <td>756.0</td>\n",
       "      <td>672.919998</td>\n",
       "      <td>0.0</td>\n",
       "      <td>889.203332</td>\n",
       "      <td>2144.103332</td>\n",
       "    </tr>\n",
       "    <tr>\n",
       "      <th>Pretty Big Wieners</th>\n",
       "      <td>1382.0</td>\n",
       "      <td>783.109995</td>\n",
       "      <td>0.0</td>\n",
       "      <td>826.336675</td>\n",
       "      <td>2081.236675</td>\n",
       "    </tr>\n",
       "    <tr>\n",
       "      <th>Gus The Bus</th>\n",
       "      <td>965.0</td>\n",
       "      <td>916.759987</td>\n",
       "      <td>0.0</td>\n",
       "      <td>754.199996</td>\n",
       "      <td>1970.799996</td>\n",
       "    </tr>\n",
       "    <tr>\n",
       "      <th>WHAM! BAM! Thank You CAM!</th>\n",
       "      <td>1426.0</td>\n",
       "      <td>1097.079990</td>\n",
       "      <td>0.0</td>\n",
       "      <td>720.099995</td>\n",
       "      <td>1974.999995</td>\n",
       "    </tr>\n",
       "    <tr>\n",
       "      <th>O'Henry's Stiffies</th>\n",
       "      <td>2406.0</td>\n",
       "      <td>847.500009</td>\n",
       "      <td>0.0</td>\n",
       "      <td>714.193320</td>\n",
       "      <td>1972.793320</td>\n",
       "    </tr>\n",
       "    <tr>\n",
       "      <th>Down with the Sickness unto Death</th>\n",
       "      <td>1454.0</td>\n",
       "      <td>1060.799997</td>\n",
       "      <td>0.0</td>\n",
       "      <td>691.689994</td>\n",
       "      <td>1946.589994</td>\n",
       "    </tr>\n",
       "    <tr>\n",
       "      <th>Comeback Kings</th>\n",
       "      <td>1582.0</td>\n",
       "      <td>929.870006</td>\n",
       "      <td>0.0</td>\n",
       "      <td>672.423329</td>\n",
       "      <td>1931.023329</td>\n",
       "    </tr>\n",
       "    <tr>\n",
       "      <th>IDK much about soccer</th>\n",
       "      <td>2098.0</td>\n",
       "      <td>3773.569991</td>\n",
       "      <td>0.0</td>\n",
       "      <td>655.703333</td>\n",
       "      <td>1872.303333</td>\n",
       "    </tr>\n",
       "    <tr>\n",
       "      <th>Providence Monastic Spirits</th>\n",
       "      <td>1866.0</td>\n",
       "      <td>1116.989996</td>\n",
       "      <td>0.0</td>\n",
       "      <td>441.833333</td>\n",
       "      <td>1696.733333</td>\n",
       "    </tr>\n",
       "    <tr>\n",
       "      <th>Free Agent</th>\n",
       "      <td>6744.0</td>\n",
       "      <td>13489.160004</td>\n",
       "      <td>0.0</td>\n",
       "      <td>-159.740004</td>\n",
       "      <td>1091.459996</td>\n",
       "    </tr>\n",
       "  </tbody>\n",
       "</table>\n",
       "</div>"
      ],
      "text/plain": [
       "                                   SharkRank           ADP  Regressed  \\\n",
       "FranchiseName                                                           \n",
       "Washington Fantasy Football Team       842.0    661.139991        0.0   \n",
       "Saskatoon Squatches                    670.0    593.280004        0.0   \n",
       "Verdansk Vaqueros FFC                 1052.0    699.260006        0.0   \n",
       "Crocodilopolis Body Snatchers          756.0    672.919998        0.0   \n",
       "Pretty Big Wieners                    1382.0    783.109995        0.0   \n",
       "Gus The Bus                            965.0    916.759987        0.0   \n",
       "WHAM! BAM! Thank You CAM!             1426.0   1097.079990        0.0   \n",
       "O'Henry's Stiffies                    2406.0    847.500009        0.0   \n",
       "Down with the Sickness unto Death     1454.0   1060.799997        0.0   \n",
       "Comeback Kings                        1582.0    929.870006        0.0   \n",
       "IDK much about soccer                 2098.0   3773.569991        0.0   \n",
       "Providence Monastic Spirits           1866.0   1116.989996        0.0   \n",
       "Free Agent                            6744.0  13489.160004        0.0   \n",
       "\n",
       "                                   Projection_Relative  Projection_Absolute  \n",
       "FranchiseName                                                                \n",
       "Washington Fantasy Football Team            963.713328          2214.913328  \n",
       "Saskatoon Squatches                         949.956658          2201.156658  \n",
       "Verdansk Vaqueros FFC                       889.796669          2148.396669  \n",
       "Crocodilopolis Body Snatchers               889.203332          2144.103332  \n",
       "Pretty Big Wieners                          826.336675          2081.236675  \n",
       "Gus The Bus                                 754.199996          1970.799996  \n",
       "WHAM! BAM! Thank You CAM!                   720.099995          1974.999995  \n",
       "O'Henry's Stiffies                          714.193320          1972.793320  \n",
       "Down with the Sickness unto Death           691.689994          1946.589994  \n",
       "Comeback Kings                              672.423329          1931.023329  \n",
       "IDK much about soccer                       655.703333          1872.303333  \n",
       "Providence Monastic Spirits                 441.833333          1696.733333  \n",
       "Free Agent                                 -159.740004          1091.459996  "
      ]
     },
     "execution_count": 17,
     "metadata": {},
     "output_type": "execute_result"
    }
   ],
   "source": [
    "fran_rank = fran_rost.groupby('FranchiseName').sum().sort_values(by='Projection_Relative', ascending=False)\n",
    "fran_rank"
   ]
  },
  {
   "cell_type": "code",
   "execution_count": 18,
   "metadata": {},
   "outputs": [
    {
     "data": {
      "application/vnd.plotly.v1+json": {
       "config": {
        "plotlyServerURL": "https://plot.ly"
       },
       "data": [
        {
         "alignmentgroup": "True",
         "hovertemplate": "Position=RB<br>FranchiseName=%{x}<br>Projection_Relative=%{y}<br>Name=%{text}<extra></extra>",
         "legendgroup": "RB",
         "marker": {
          "color": "#062647",
          "pattern": {
           "shape": ""
          }
         },
         "name": "RB",
         "offsetgroup": "RB",
         "orientation": "v",
         "showlegend": true,
         "text": [
          "Harris, Najee",
          "Harris, Damien",
          "Barkley, Saquon",
          "Williams, Javonte",
          "Mitchell, Elijah",
          "Elliott, Ezekiel",
          "Etienne, Travis",
          "Singletary, Devin",
          "Jacobs, Josh",
          "Mixon, Joe",
          "Montgomery, David",
          "Dobbins, J.K.",
          "Sanders, Miles",
          "Fournette, Leonard",
          "Penny, Rashaad",
          "Akers, Cam",
          "Cook, Dalvin",
          "Robinson, James",
          "Hubbard, Chuba",
          "McCaffrey, Christian",
          "Conner, James",
          "Taylor, Jonathan",
          "Gainwell, Kenneth",
          "Henry, Derrick",
          "Gibson, Antonio",
          "Chubb, Nick",
          "Jones, Aaron",
          "Edmonds, Chase",
          "Edwards-Helaire, Clyde",
          "McKissic, J.D.",
          "Williams, Jamaal",
          "Hall, Breece",
          "Kamara, Alvin",
          "Gordon, Melvin",
          "Ekeler, Austin",
          "Hunt, Kareem",
          "Dillon, AJ",
          "Patterson, Cordarrelle",
          "Swift, D'Andre",
          "Johnson, Ty",
          "Breida, Matt"
         ],
         "textposition": "auto",
         "type": "bar",
         "x": [
          "Washington Fantasy Football Team",
          "Washington Fantasy Football Team",
          "Saskatoon Squatches",
          "Saskatoon Squatches",
          "Verdansk Vaqueros FFC",
          "Verdansk Vaqueros FFC",
          "Verdansk Vaqueros FFC",
          "Verdansk Vaqueros FFC",
          "Crocodilopolis Body Snatchers",
          "Crocodilopolis Body Snatchers",
          "Crocodilopolis Body Snatchers",
          "Pretty Big Wieners",
          "Pretty Big Wieners",
          "Pretty Big Wieners",
          "Gus The Bus",
          "Gus The Bus",
          "Gus The Bus",
          "Gus The Bus",
          "WHAM! BAM! Thank You CAM!",
          "WHAM! BAM! Thank You CAM!",
          "WHAM! BAM! Thank You CAM!",
          "O'Henry's Stiffies",
          "O'Henry's Stiffies",
          "O'Henry's Stiffies",
          "O'Henry's Stiffies",
          "Down with the Sickness unto Death",
          "Down with the Sickness unto Death",
          "Down with the Sickness unto Death",
          "Comeback Kings",
          "Comeback Kings",
          "Comeback Kings",
          "Comeback Kings",
          "IDK much about soccer ",
          "IDK much about soccer ",
          "IDK much about soccer ",
          "IDK much about soccer ",
          "Providence Monastic Spirits",
          "Providence Monastic Spirits",
          "Providence Monastic Spirits",
          "Free Agent",
          "Free Agent"
         ],
         "xaxis": "x",
         "y": [
          122.3733306884766,
          53.94666798909505,
          117.1133310953776,
          72.21666564941407,
          57.59666646321615,
          101.083332824707,
          63.10333302815756,
          64.72666727701824,
          68.05333404541017,
          120.9333307902018,
          112.9466664632161,
          48.00333557128906,
          38.35333506266276,
          89.08333384195963,
          34.43333333333334,
          77.76333312988281,
          163.9766642252604,
          35.62666778564454,
          2.559998575846357,
          146.439995320638,
          79.74000040690105,
          224.9333292643229,
          -6.783334859212239,
          175.2899983723958,
          76.24666544596354,
          131.5499969482422,
          93.7933334350586,
          32.64666646321615,
          61.67999877929687,
          16.99666697184245,
          3.966664123535161,
          25.9933349609375,
          105.6766662597656,
          18.63333333333334,
          201.6033325195312,
          23.11333363850912,
          21.80333404541016,
          43.00666809082031,
          82.91333516438802,
          -24.21000137329101,
          -29.88333358764648
         ],
         "yaxis": "y"
        },
        {
         "alignmentgroup": "True",
         "hovertemplate": "Position=QB<br>FranchiseName=%{x}<br>Projection_Relative=%{y}<br>Name=%{text}<extra></extra>",
         "legendgroup": "QB",
         "marker": {
          "color": "#ffa524",
          "pattern": {
           "shape": ""
          }
         },
         "name": "QB",
         "offsetgroup": "QB",
         "orientation": "v",
         "showlegend": true,
         "text": [
          "Brady, Tom",
          "Cousins, Kirk",
          "Carr, Derek",
          "Mahomes, Patrick",
          "Tagovailoa, Tua",
          "Burrow, Joe",
          "Murray, Kyler",
          "Hurts, Jalen",
          "Rodgers, Aaron",
          "Jones, Mac",
          "Jackson, Lamar",
          "Wilson, Russell",
          "Smith, Geno",
          "Mayfield, Baker",
          "Mills, Davis",
          "Herbert, Justin",
          "Tannehill, Ryan",
          "Allen, Josh",
          "Stafford, Matthew",
          "Fields, Justin",
          "Winston, Jameis",
          "Prescott, Dak",
          "Dalton, Andy",
          "Huntley, Tyler"
         ],
         "textposition": "auto",
         "type": "bar",
         "x": [
          "Washington Fantasy Football Team",
          "Washington Fantasy Football Team",
          "Saskatoon Squatches",
          "Saskatoon Squatches",
          "Verdansk Vaqueros FFC",
          "Verdansk Vaqueros FFC",
          "Crocodilopolis Body Snatchers",
          "Crocodilopolis Body Snatchers",
          "Pretty Big Wieners",
          "Pretty Big Wieners",
          "Gus The Bus",
          "WHAM! BAM! Thank You CAM!",
          "WHAM! BAM! Thank You CAM!",
          "O'Henry's Stiffies",
          "O'Henry's Stiffies",
          "Down with the Sickness unto Death",
          "Down with the Sickness unto Death",
          "Comeback Kings",
          "Comeback Kings",
          "IDK much about soccer ",
          "Providence Monastic Spirits",
          "Providence Monastic Spirits",
          "Free Agent",
          "Free Agent"
         ],
         "xaxis": "x",
         "y": [
          153.9299977620443,
          102.4066685994466,
          85.60000152587891,
          193.4099985758464,
          58.81666564941407,
          118.0800008138021,
          163.4633321126302,
          123.3500020345052,
          136.6400014241536,
          35.75333302815756,
          171.6466644287109,
          130.5433349609375,
          41.47666524251303,
          31.95666605631511,
          37.89333089192709,
          178.0466674804688,
          61.70666554768881,
          205.3499979654948,
          67.9433334350586,
          34.00666656494141,
          53.44666697184245,
          145.0699991861979,
          -24.28666788736978,
          -30.4133305867513
         ],
         "yaxis": "y"
        },
        {
         "alignmentgroup": "True",
         "hovertemplate": "Position=WR<br>FranchiseName=%{x}<br>Projection_Relative=%{y}<br>Name=%{text}<extra></extra>",
         "legendgroup": "WR",
         "marker": {
          "color": "#621B74",
          "pattern": {
           "shape": ""
          }
         },
         "name": "WR",
         "offsetgroup": "WR",
         "orientation": "v",
         "showlegend": true,
         "text": [
          "Davis, Gabriel",
          "Higgins, Tee",
          "Samuel, Deebo",
          "Metcalf, DK",
          "Kupp, Cooper",
          "Claypool, Chase",
          "Hill, Tyreek",
          "Bateman, Rashod",
          "Chase, Ja'Marr",
          "Robinson, Allen",
          "Adams, Davante",
          "Hopkins, DeAndre",
          "Cooper, Amari",
          "Mooney, Darnell",
          "Moore, D.J.",
          "Godwin, Chris",
          "Brown, Marquise",
          "Brown, A.J.",
          "Jones, Marvin",
          "Allen, Keenan",
          "Jefferson, Justin",
          "Waddle, Jaylen",
          "Pittman, Michael",
          "Kirk, Christian",
          "Renfrow, Hunter",
          "Bourne, Kendrick",
          "Parker, DeVante",
          "Lockett, Tyler",
          "Chark, D.J.",
          "Smith, DeVonta",
          "Watson, Christian",
          "Lamb, CeeDee",
          "Davis, Corey",
          "St. Brown, Amon-Ra",
          "McLaurin, Terry",
          "Evans, Mike",
          "Diggs, Stefon",
          "Cooks, Brandin",
          "Gallup, Michael",
          "Thomas, Michael",
          "Thielen, Adam",
          "Williams, Mike",
          "Johnson, Diontae",
          "Jefferson, Van",
          "Sutton, Courtland",
          "Smith-Schuster, JuJu",
          "Boyd, Tyler",
          "Edwards, Bryan",
          "Jones, Zay",
          "Crowder, Jamison",
          "Callaway, Marquez",
          "Westbrook-Ikhine, Nick"
         ],
         "textposition": "auto",
         "type": "bar",
         "x": [
          "Washington Fantasy Football Team",
          "Washington Fantasy Football Team",
          "Washington Fantasy Football Team",
          "Washington Fantasy Football Team",
          "Washington Fantasy Football Team",
          "Saskatoon Squatches",
          "Saskatoon Squatches",
          "Saskatoon Squatches",
          "Saskatoon Squatches",
          "Saskatoon Squatches",
          "Verdansk Vaqueros FFC",
          "Verdansk Vaqueros FFC",
          "Verdansk Vaqueros FFC",
          "Crocodilopolis Body Snatchers",
          "Crocodilopolis Body Snatchers",
          "Crocodilopolis Body Snatchers",
          "Crocodilopolis Body Snatchers",
          "Pretty Big Wieners",
          "Pretty Big Wieners",
          "Pretty Big Wieners",
          "Pretty Big Wieners",
          "Gus The Bus",
          "Gus The Bus",
          "Gus The Bus",
          "Gus The Bus",
          "WHAM! BAM! Thank You CAM!",
          "WHAM! BAM! Thank You CAM!",
          "WHAM! BAM! Thank You CAM!",
          "WHAM! BAM! Thank You CAM!",
          "O'Henry's Stiffies",
          "O'Henry's Stiffies",
          "O'Henry's Stiffies",
          "Down with the Sickness unto Death",
          "Down with the Sickness unto Death",
          "Down with the Sickness unto Death",
          "Down with the Sickness unto Death",
          "Comeback Kings",
          "Comeback Kings",
          "Comeback Kings",
          "IDK much about soccer ",
          "IDK much about soccer ",
          "IDK much about soccer ",
          "IDK much about soccer ",
          "Providence Monastic Spirits",
          "Providence Monastic Spirits",
          "Providence Monastic Spirits",
          "Providence Monastic Spirits",
          "Free Agent",
          "Free Agent",
          "Free Agent",
          "Free Agent",
          "Free Agent"
         ],
         "xaxis": "x",
         "y": [
          30.86333312988282,
          42.08000030517579,
          136.5866683959961,
          57.95333150227865,
          185.5799967447917,
          24.01333160400391,
          126.8100001017253,
          29.87999979654948,
          113.6899993896484,
          52.39333140055339,
          168.276665242513,
          1.856667327880864,
          77.62000223795573,
          60.63999938964844,
          49.13333384195964,
          40.01333363850912,
          36.61666768391928,
          66.56333262125652,
          34.91000061035157,
          86.41333363850912,
          148.390000406901,
          62.58333333333334,
          75.0433339436849,
          20.68333384195965,
          30.10333302815756,
          17.1933329264323,
          32.55333251953126,
          46.50333404541016,
          43.36333363850912,
          1.186666361490888,
          9.293331654866542,
          79.9000005086263,
          28.57666575113933,
          29.72333119710287,
          51.48333333333334,
          78.85000101725261,
          98.43000030517578,
          69.01999969482422,
          27.03666585286459,
          64.59999898274741,
          76.48333485921225,
          38.53333435058595,
          72.17333374023438,
          -11.0066665649414,
          3.23666661580404,
          55.18333129882813,
          4.646666208903,
          6.969998168945317,
          -17.19333318074544,
          -11.6566670735677,
          -9.373333994547522,
          -10.38000030517578
         ],
         "yaxis": "y"
        },
        {
         "alignmentgroup": "True",
         "hovertemplate": "Position=TE<br>FranchiseName=%{x}<br>Projection_Relative=%{y}<br>Name=%{text}<extra></extra>",
         "legendgroup": "TE",
         "marker": {
          "color": "#43B3AE",
          "pattern": {
           "shape": ""
          }
         },
         "name": "TE",
         "offsetgroup": "TE",
         "orientation": "v",
         "showlegend": true,
         "text": [
          "Ertz, Zach",
          "Smith Jr., Irv",
          "Hockenson, T.J.",
          "Goedert, Dallas",
          "Njoku, David",
          "Kelce, Travis",
          "Gesicki, Mike",
          "Knox, Dawson",
          "Andrews, Mark",
          "Jordan, Brevin",
          "Fant, Noah",
          "Thomas, Logan",
          "Waller, Darren",
          "Kittle, George",
          "Henry, Hunter",
          "Pitts, Kyle",
          "Seals-Jones, Ricky",
          "Trautman, Adam",
          "Tonyan, Robert",
          "Schultz, Dalton",
          "Bryant, Harrison",
          "Hurst, Hayden",
          "Higbee, Tyler",
          "Okwuegbunam, Albert",
          "Deguara, Josiah",
          "Conklin, Tyler"
         ],
         "textposition": "auto",
         "type": "bar",
         "x": [
          "Washington Fantasy Football Team",
          "Washington Fantasy Football Team",
          "Saskatoon Squatches",
          "Saskatoon Squatches",
          "Verdansk Vaqueros FFC",
          "Verdansk Vaqueros FFC",
          "Crocodilopolis Body Snatchers",
          "Crocodilopolis Body Snatchers",
          "Pretty Big Wieners",
          "Pretty Big Wieners",
          "Gus The Bus",
          "Gus The Bus",
          "WHAM! BAM! Thank You CAM!",
          "WHAM! BAM! Thank You CAM!",
          "O'Henry's Stiffies",
          "O'Henry's Stiffies",
          "Down with the Sickness unto Death",
          "Down with the Sickness unto Death",
          "Comeback Kings",
          "Comeback Kings",
          "IDK much about soccer ",
          "IDK much about soccer ",
          "Providence Monastic Spirits",
          "Providence Monastic Spirits",
          "Free Agent",
          "Free Agent"
         ],
         "xaxis": "x",
         "y": [
          57.02666575113932,
          20.96666666666667,
          63.39000040690104,
          71.43999837239582,
          51.48666585286458,
          127.1500020345052,
          59.83333180745442,
          54.21999969482422,
          144.1933349609375,
          -1.966666539510094,
          56.44999872843424,
          25.89000015258789,
          103.8266693115234,
          75.89999847412109,
          16.52666702270507,
          67.74999949137369,
          1.333333333333331,
          3.979999796549476,
          10.33666712443033,
          85.67000020345051,
          -10.90000012715658,
          31.77999852498372,
          12.81666666666666,
          30.71666539510091,
          -6.273333740234378,
          -3.040000406901044
         ],
         "yaxis": "y"
        }
       ],
       "layout": {
        "barmode": "stack",
        "legend": {
         "title": {
          "text": "Position"
         },
         "tracegroupgap": 0
        },
        "margin": {
         "t": 60
        },
        "template": {
         "data": {
          "bar": [
           {
            "error_x": {
             "color": "#2a3f5f"
            },
            "error_y": {
             "color": "#2a3f5f"
            },
            "marker": {
             "line": {
              "color": "#E5ECF6",
              "width": 0.5
             },
             "pattern": {
              "fillmode": "overlay",
              "size": 10,
              "solidity": 0.2
             }
            },
            "type": "bar"
           }
          ],
          "barpolar": [
           {
            "marker": {
             "line": {
              "color": "#E5ECF6",
              "width": 0.5
             },
             "pattern": {
              "fillmode": "overlay",
              "size": 10,
              "solidity": 0.2
             }
            },
            "type": "barpolar"
           }
          ],
          "carpet": [
           {
            "aaxis": {
             "endlinecolor": "#2a3f5f",
             "gridcolor": "white",
             "linecolor": "white",
             "minorgridcolor": "white",
             "startlinecolor": "#2a3f5f"
            },
            "baxis": {
             "endlinecolor": "#2a3f5f",
             "gridcolor": "white",
             "linecolor": "white",
             "minorgridcolor": "white",
             "startlinecolor": "#2a3f5f"
            },
            "type": "carpet"
           }
          ],
          "choropleth": [
           {
            "colorbar": {
             "outlinewidth": 0,
             "ticks": ""
            },
            "type": "choropleth"
           }
          ],
          "contour": [
           {
            "colorbar": {
             "outlinewidth": 0,
             "ticks": ""
            },
            "colorscale": [
             [
              0,
              "#0d0887"
             ],
             [
              0.1111111111111111,
              "#46039f"
             ],
             [
              0.2222222222222222,
              "#7201a8"
             ],
             [
              0.3333333333333333,
              "#9c179e"
             ],
             [
              0.4444444444444444,
              "#bd3786"
             ],
             [
              0.5555555555555556,
              "#d8576b"
             ],
             [
              0.6666666666666666,
              "#ed7953"
             ],
             [
              0.7777777777777778,
              "#fb9f3a"
             ],
             [
              0.8888888888888888,
              "#fdca26"
             ],
             [
              1,
              "#f0f921"
             ]
            ],
            "type": "contour"
           }
          ],
          "contourcarpet": [
           {
            "colorbar": {
             "outlinewidth": 0,
             "ticks": ""
            },
            "type": "contourcarpet"
           }
          ],
          "heatmap": [
           {
            "colorbar": {
             "outlinewidth": 0,
             "ticks": ""
            },
            "colorscale": [
             [
              0,
              "#0d0887"
             ],
             [
              0.1111111111111111,
              "#46039f"
             ],
             [
              0.2222222222222222,
              "#7201a8"
             ],
             [
              0.3333333333333333,
              "#9c179e"
             ],
             [
              0.4444444444444444,
              "#bd3786"
             ],
             [
              0.5555555555555556,
              "#d8576b"
             ],
             [
              0.6666666666666666,
              "#ed7953"
             ],
             [
              0.7777777777777778,
              "#fb9f3a"
             ],
             [
              0.8888888888888888,
              "#fdca26"
             ],
             [
              1,
              "#f0f921"
             ]
            ],
            "type": "heatmap"
           }
          ],
          "heatmapgl": [
           {
            "colorbar": {
             "outlinewidth": 0,
             "ticks": ""
            },
            "colorscale": [
             [
              0,
              "#0d0887"
             ],
             [
              0.1111111111111111,
              "#46039f"
             ],
             [
              0.2222222222222222,
              "#7201a8"
             ],
             [
              0.3333333333333333,
              "#9c179e"
             ],
             [
              0.4444444444444444,
              "#bd3786"
             ],
             [
              0.5555555555555556,
              "#d8576b"
             ],
             [
              0.6666666666666666,
              "#ed7953"
             ],
             [
              0.7777777777777778,
              "#fb9f3a"
             ],
             [
              0.8888888888888888,
              "#fdca26"
             ],
             [
              1,
              "#f0f921"
             ]
            ],
            "type": "heatmapgl"
           }
          ],
          "histogram": [
           {
            "marker": {
             "pattern": {
              "fillmode": "overlay",
              "size": 10,
              "solidity": 0.2
             }
            },
            "type": "histogram"
           }
          ],
          "histogram2d": [
           {
            "colorbar": {
             "outlinewidth": 0,
             "ticks": ""
            },
            "colorscale": [
             [
              0,
              "#0d0887"
             ],
             [
              0.1111111111111111,
              "#46039f"
             ],
             [
              0.2222222222222222,
              "#7201a8"
             ],
             [
              0.3333333333333333,
              "#9c179e"
             ],
             [
              0.4444444444444444,
              "#bd3786"
             ],
             [
              0.5555555555555556,
              "#d8576b"
             ],
             [
              0.6666666666666666,
              "#ed7953"
             ],
             [
              0.7777777777777778,
              "#fb9f3a"
             ],
             [
              0.8888888888888888,
              "#fdca26"
             ],
             [
              1,
              "#f0f921"
             ]
            ],
            "type": "histogram2d"
           }
          ],
          "histogram2dcontour": [
           {
            "colorbar": {
             "outlinewidth": 0,
             "ticks": ""
            },
            "colorscale": [
             [
              0,
              "#0d0887"
             ],
             [
              0.1111111111111111,
              "#46039f"
             ],
             [
              0.2222222222222222,
              "#7201a8"
             ],
             [
              0.3333333333333333,
              "#9c179e"
             ],
             [
              0.4444444444444444,
              "#bd3786"
             ],
             [
              0.5555555555555556,
              "#d8576b"
             ],
             [
              0.6666666666666666,
              "#ed7953"
             ],
             [
              0.7777777777777778,
              "#fb9f3a"
             ],
             [
              0.8888888888888888,
              "#fdca26"
             ],
             [
              1,
              "#f0f921"
             ]
            ],
            "type": "histogram2dcontour"
           }
          ],
          "mesh3d": [
           {
            "colorbar": {
             "outlinewidth": 0,
             "ticks": ""
            },
            "type": "mesh3d"
           }
          ],
          "parcoords": [
           {
            "line": {
             "colorbar": {
              "outlinewidth": 0,
              "ticks": ""
             }
            },
            "type": "parcoords"
           }
          ],
          "pie": [
           {
            "automargin": true,
            "type": "pie"
           }
          ],
          "scatter": [
           {
            "fillpattern": {
             "fillmode": "overlay",
             "size": 10,
             "solidity": 0.2
            },
            "type": "scatter"
           }
          ],
          "scatter3d": [
           {
            "line": {
             "colorbar": {
              "outlinewidth": 0,
              "ticks": ""
             }
            },
            "marker": {
             "colorbar": {
              "outlinewidth": 0,
              "ticks": ""
             }
            },
            "type": "scatter3d"
           }
          ],
          "scattercarpet": [
           {
            "marker": {
             "colorbar": {
              "outlinewidth": 0,
              "ticks": ""
             }
            },
            "type": "scattercarpet"
           }
          ],
          "scattergeo": [
           {
            "marker": {
             "colorbar": {
              "outlinewidth": 0,
              "ticks": ""
             }
            },
            "type": "scattergeo"
           }
          ],
          "scattergl": [
           {
            "marker": {
             "colorbar": {
              "outlinewidth": 0,
              "ticks": ""
             }
            },
            "type": "scattergl"
           }
          ],
          "scattermapbox": [
           {
            "marker": {
             "colorbar": {
              "outlinewidth": 0,
              "ticks": ""
             }
            },
            "type": "scattermapbox"
           }
          ],
          "scatterpolar": [
           {
            "marker": {
             "colorbar": {
              "outlinewidth": 0,
              "ticks": ""
             }
            },
            "type": "scatterpolar"
           }
          ],
          "scatterpolargl": [
           {
            "marker": {
             "colorbar": {
              "outlinewidth": 0,
              "ticks": ""
             }
            },
            "type": "scatterpolargl"
           }
          ],
          "scatterternary": [
           {
            "marker": {
             "colorbar": {
              "outlinewidth": 0,
              "ticks": ""
             }
            },
            "type": "scatterternary"
           }
          ],
          "surface": [
           {
            "colorbar": {
             "outlinewidth": 0,
             "ticks": ""
            },
            "colorscale": [
             [
              0,
              "#0d0887"
             ],
             [
              0.1111111111111111,
              "#46039f"
             ],
             [
              0.2222222222222222,
              "#7201a8"
             ],
             [
              0.3333333333333333,
              "#9c179e"
             ],
             [
              0.4444444444444444,
              "#bd3786"
             ],
             [
              0.5555555555555556,
              "#d8576b"
             ],
             [
              0.6666666666666666,
              "#ed7953"
             ],
             [
              0.7777777777777778,
              "#fb9f3a"
             ],
             [
              0.8888888888888888,
              "#fdca26"
             ],
             [
              1,
              "#f0f921"
             ]
            ],
            "type": "surface"
           }
          ],
          "table": [
           {
            "cells": {
             "fill": {
              "color": "#EBF0F8"
             },
             "line": {
              "color": "white"
             }
            },
            "header": {
             "fill": {
              "color": "#C8D4E3"
             },
             "line": {
              "color": "white"
             }
            },
            "type": "table"
           }
          ]
         },
         "layout": {
          "annotationdefaults": {
           "arrowcolor": "#2a3f5f",
           "arrowhead": 0,
           "arrowwidth": 1
          },
          "autotypenumbers": "strict",
          "coloraxis": {
           "colorbar": {
            "outlinewidth": 0,
            "ticks": ""
           }
          },
          "colorscale": {
           "diverging": [
            [
             0,
             "#8e0152"
            ],
            [
             0.1,
             "#c51b7d"
            ],
            [
             0.2,
             "#de77ae"
            ],
            [
             0.3,
             "#f1b6da"
            ],
            [
             0.4,
             "#fde0ef"
            ],
            [
             0.5,
             "#f7f7f7"
            ],
            [
             0.6,
             "#e6f5d0"
            ],
            [
             0.7,
             "#b8e186"
            ],
            [
             0.8,
             "#7fbc41"
            ],
            [
             0.9,
             "#4d9221"
            ],
            [
             1,
             "#276419"
            ]
           ],
           "sequential": [
            [
             0,
             "#0d0887"
            ],
            [
             0.1111111111111111,
             "#46039f"
            ],
            [
             0.2222222222222222,
             "#7201a8"
            ],
            [
             0.3333333333333333,
             "#9c179e"
            ],
            [
             0.4444444444444444,
             "#bd3786"
            ],
            [
             0.5555555555555556,
             "#d8576b"
            ],
            [
             0.6666666666666666,
             "#ed7953"
            ],
            [
             0.7777777777777778,
             "#fb9f3a"
            ],
            [
             0.8888888888888888,
             "#fdca26"
            ],
            [
             1,
             "#f0f921"
            ]
           ],
           "sequentialminus": [
            [
             0,
             "#0d0887"
            ],
            [
             0.1111111111111111,
             "#46039f"
            ],
            [
             0.2222222222222222,
             "#7201a8"
            ],
            [
             0.3333333333333333,
             "#9c179e"
            ],
            [
             0.4444444444444444,
             "#bd3786"
            ],
            [
             0.5555555555555556,
             "#d8576b"
            ],
            [
             0.6666666666666666,
             "#ed7953"
            ],
            [
             0.7777777777777778,
             "#fb9f3a"
            ],
            [
             0.8888888888888888,
             "#fdca26"
            ],
            [
             1,
             "#f0f921"
            ]
           ]
          },
          "colorway": [
           "#636efa",
           "#EF553B",
           "#00cc96",
           "#ab63fa",
           "#FFA15A",
           "#19d3f3",
           "#FF6692",
           "#B6E880",
           "#FF97FF",
           "#FECB52"
          ],
          "font": {
           "color": "#2a3f5f"
          },
          "geo": {
           "bgcolor": "white",
           "lakecolor": "white",
           "landcolor": "#E5ECF6",
           "showlakes": true,
           "showland": true,
           "subunitcolor": "white"
          },
          "hoverlabel": {
           "align": "left"
          },
          "hovermode": "closest",
          "mapbox": {
           "style": "light"
          },
          "paper_bgcolor": "white",
          "plot_bgcolor": "#E5ECF6",
          "polar": {
           "angularaxis": {
            "gridcolor": "white",
            "linecolor": "white",
            "ticks": ""
           },
           "bgcolor": "#E5ECF6",
           "radialaxis": {
            "gridcolor": "white",
            "linecolor": "white",
            "ticks": ""
           }
          },
          "scene": {
           "xaxis": {
            "backgroundcolor": "#E5ECF6",
            "gridcolor": "white",
            "gridwidth": 2,
            "linecolor": "white",
            "showbackground": true,
            "ticks": "",
            "zerolinecolor": "white"
           },
           "yaxis": {
            "backgroundcolor": "#E5ECF6",
            "gridcolor": "white",
            "gridwidth": 2,
            "linecolor": "white",
            "showbackground": true,
            "ticks": "",
            "zerolinecolor": "white"
           },
           "zaxis": {
            "backgroundcolor": "#E5ECF6",
            "gridcolor": "white",
            "gridwidth": 2,
            "linecolor": "white",
            "showbackground": true,
            "ticks": "",
            "zerolinecolor": "white"
           }
          },
          "shapedefaults": {
           "line": {
            "color": "#2a3f5f"
           }
          },
          "ternary": {
           "aaxis": {
            "gridcolor": "white",
            "linecolor": "white",
            "ticks": ""
           },
           "baxis": {
            "gridcolor": "white",
            "linecolor": "white",
            "ticks": ""
           },
           "bgcolor": "#E5ECF6",
           "caxis": {
            "gridcolor": "white",
            "linecolor": "white",
            "ticks": ""
           }
          },
          "title": {
           "x": 0.05
          },
          "xaxis": {
           "automargin": true,
           "gridcolor": "white",
           "linecolor": "white",
           "ticks": "",
           "title": {
            "standoff": 15
           },
           "zerolinecolor": "white",
           "zerolinewidth": 2
          },
          "yaxis": {
           "automargin": true,
           "gridcolor": "white",
           "linecolor": "white",
           "ticks": "",
           "title": {
            "standoff": 15
           },
           "zerolinecolor": "white",
           "zerolinewidth": 2
          }
         }
        },
        "xaxis": {
         "anchor": "y",
         "categoryorder": "total descending",
         "domain": [
          0,
          1
         ],
         "title": {
          "text": "FranchiseName"
         }
        },
        "yaxis": {
         "anchor": "x",
         "domain": [
          0,
          1
         ],
         "title": {
          "text": "Projection_Relative"
         }
        }
       }
      }
     },
     "metadata": {},
     "output_type": "display_data"
    }
   ],
   "source": [
    "sorter = fran_rank.index\n",
    "\n",
    "fran_rost.FranchiseName = fran_rost.FranchiseName.astype(\"category\")\n",
    "fran_rost.FranchiseName.cat.set_categories(sorter, inplace=True)\n",
    "fran_rost.sort_values([\"FranchiseName\"], inplace=True)\n",
    "\n",
    "fig = px.bar(fran_rost, \n",
    "             x=\"FranchiseName\", \n",
    "             y=\"Projection_Relative\", \n",
    "             color=\"Position\", \n",
    "             text='Name', \n",
    "             color_discrete_map={\n",
    "                    \"RB\": \"#062647\", #blue #1033a6 #0c2987 1033a6\n",
    "                    \"TE\": \"#43B3AE\", #teal #02687b #038097 1295ad\n",
    "                    \"WR\": \"#621B74\", #purple #4f22bc #643fc1 643fc1\n",
    "                    \"QB\": \"#ffa524\"}, #gold #f5d000 f5d000\n",
    "             category_orders={\n",
    "                 \"Position\": [\"RB\", \"QB\", \"WR\", \"TE\"]}\n",
    "            )\n",
    "fig.update_layout(barmode='stack', xaxis={'categoryorder':'total descending'})\n",
    "fig.show()"
   ]
  },
  {
   "cell_type": "code",
   "execution_count": 26,
   "metadata": {},
   "outputs": [
    {
     "data": {
      "text/html": [
       "<div>\n",
       "<style scoped>\n",
       "    .dataframe tbody tr th:only-of-type {\n",
       "        vertical-align: middle;\n",
       "    }\n",
       "\n",
       "    .dataframe tbody tr th {\n",
       "        vertical-align: top;\n",
       "    }\n",
       "\n",
       "    .dataframe thead th {\n",
       "        text-align: right;\n",
       "    }\n",
       "</style>\n",
       "<table border=\"1\" class=\"dataframe\">\n",
       "  <thead>\n",
       "    <tr style=\"text-align: right;\">\n",
       "      <th></th>\n",
       "      <th>PlayerID</th>\n",
       "      <th>Name</th>\n",
       "      <th>Position</th>\n",
       "      <th>Team</th>\n",
       "      <th>FranchiseID</th>\n",
       "      <th>Week</th>\n",
       "      <th>RosterStatus</th>\n",
       "      <th>FranchiseName</th>\n",
       "      <th>SharkRank</th>\n",
       "      <th>ADP</th>\n",
       "      <th>Projection_Relative</th>\n",
       "      <th>Projection_Absolute</th>\n",
       "    </tr>\n",
       "  </thead>\n",
       "  <tbody>\n",
       "    <tr>\n",
       "      <th>3</th>\n",
       "      <td>0530</td>\n",
       "      <td>49ers, San Francisco</td>\n",
       "      <td>Def</td>\n",
       "      <td>SFO</td>\n",
       "      <td>0005</td>\n",
       "      <td>1</td>\n",
       "      <td>ROSTER</td>\n",
       "      <td>Crocodilopolis Body Snatchers</td>\n",
       "      <td>529.0</td>\n",
       "      <td>151.490005</td>\n",
       "      <td>83.680000</td>\n",
       "      <td>200.680000</td>\n",
       "    </tr>\n",
       "    <tr>\n",
       "      <th>15</th>\n",
       "      <td>0507</td>\n",
       "      <td>Browns, Cleveland</td>\n",
       "      <td>Def</td>\n",
       "      <td>CLE</td>\n",
       "      <td>0005</td>\n",
       "      <td>1</td>\n",
       "      <td>ROSTER</td>\n",
       "      <td>Crocodilopolis Body Snatchers</td>\n",
       "      <td>804.0</td>\n",
       "      <td>3000.000000</td>\n",
       "      <td>47.679998</td>\n",
       "      <td>164.679998</td>\n",
       "    </tr>\n",
       "    <tr>\n",
       "      <th>23</th>\n",
       "      <td>0511</td>\n",
       "      <td>Broncos, Denver</td>\n",
       "      <td>Def</td>\n",
       "      <td>DEN</td>\n",
       "      <td>0005</td>\n",
       "      <td>1</td>\n",
       "      <td>ROSTER</td>\n",
       "      <td>Crocodilopolis Body Snatchers</td>\n",
       "      <td>995.0</td>\n",
       "      <td>173.080002</td>\n",
       "      <td>2.973333</td>\n",
       "      <td>119.973333</td>\n",
       "    </tr>\n",
       "  </tbody>\n",
       "</table>\n",
       "</div>"
      ],
      "text/plain": [
       "   PlayerID                  Name Position Team FranchiseID Week RosterStatus  \\\n",
       "3      0530  49ers, San Francisco      Def  SFO        0005    1       ROSTER   \n",
       "15     0507     Browns, Cleveland      Def  CLE        0005    1       ROSTER   \n",
       "23     0511       Broncos, Denver      Def  DEN        0005    1       ROSTER   \n",
       "\n",
       "                    FranchiseName  SharkRank          ADP  \\\n",
       "3   Crocodilopolis Body Snatchers      529.0   151.490005   \n",
       "15  Crocodilopolis Body Snatchers      804.0  3000.000000   \n",
       "23  Crocodilopolis Body Snatchers      995.0   173.080002   \n",
       "\n",
       "    Projection_Relative  Projection_Absolute  \n",
       "3             83.680000           200.680000  \n",
       "15            47.679998           164.679998  \n",
       "23             2.973333           119.973333  "
      ]
     },
     "execution_count": 26,
     "metadata": {},
     "output_type": "execute_result"
    }
   ],
   "source": [
    "FranchiseSelection = [\"Free Agent\", \"Crocodilopolis Body Snatchers\"]\n",
    "defs_2022[defs_2022['FranchiseName'].isin(FranchiseSelection)].sort_values(by=\"Projection_Relative\", ascending=False).head(50)"
   ]
  },
  {
   "cell_type": "code",
   "execution_count": null,
   "metadata": {},
   "outputs": [],
   "source": []
  }
 ],
 "metadata": {
  "kernelspec": {
   "display_name": "Python 3.7.13 ('nocoffeesharps')",
   "language": "python",
   "name": "python3"
  },
  "language_info": {
   "codemirror_mode": {
    "name": "ipython",
    "version": 3
   },
   "file_extension": ".py",
   "mimetype": "text/x-python",
   "name": "python",
   "nbconvert_exporter": "python",
   "pygments_lexer": "ipython3",
   "version": "3.7.13"
  },
  "vscode": {
   "interpreter": {
    "hash": "36c9a17e72857027b55cc8d224bd52b16358b80c116b9965325193465bea5f71"
   }
  }
 },
 "nbformat": 4,
 "nbformat_minor": 4
}
